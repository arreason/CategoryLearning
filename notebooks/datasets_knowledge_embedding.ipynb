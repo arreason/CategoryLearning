{
 "cells": [
  {
   "cell_type": "code",
   "execution_count": 1,
   "metadata": {},
   "outputs": [
    {
     "name": "stdout",
     "output_type": "stream",
     "text": [
      "fatal: destination path 'src' already exists and is not an empty directory.\r\n"
     ]
    }
   ],
   "source": [
    "from pathlib import Path\n",
    "data_path = Path('./datasets_knowledge_embedding')\n",
    "data_path.mkdir(exist_ok=True)\n",
    "\n",
    "!cd $data_path && git clone https://github.com/villmow/datasets_knowledge_embedding src"
   ]
  },
  {
   "cell_type": "code",
   "execution_count": 2,
   "metadata": {},
   "outputs": [],
   "source": [
    "import sys\n",
    "sys.path.append('../')"
   ]
  },
  {
   "cell_type": "code",
   "execution_count": 3,
   "metadata": {},
   "outputs": [],
   "source": [
    "from catlearn.tensor_utils import subproba_kl_div, Tsor\n",
    "from catlearn.graph_utils import DirectedGraph\n",
    "from catlearn.composition_graph import CompositeArrow\n",
    "from catlearn.categorical_model import (\n",
    "    RelationModel, ScoringModel, RelationCache,\n",
    "    DecisionCatModel, TrainableDecisionCatModel)\n",
    "from catlearn.algebra_models import (\n",
    "    Algebra, VectAlgebra, MatrixAlgebra, AffineAlgebra)\n",
    "import torch"
   ]
  },
  {
   "cell_type": "code",
   "execution_count": 4,
   "metadata": {},
   "outputs": [],
   "source": [
    "# WN18 train dataset\n",
    "with open('./datasets_knowledge_embedding/src/WN18/text/train.txt') as f:\n",
    "    data_triples = [line.split('\\t') for line in f.read().splitlines()]\n",
    "    \n",
    "# get the set of all possible tags in train dataset\n",
    "tags = sorted(list(frozenset(triple[1] for triple in data_triples)))\n",
    "tag_map = {tag: index for (index, tag) in enumerate(tags)}\n",
    "nb_tags = len(tag_map)"
   ]
  },
  {
   "cell_type": "code",
   "execution_count": 5,
   "metadata": {},
   "outputs": [],
   "source": [
    "train_graph = DirectedGraph()\n",
    "for (source, tag, target) in data_triples:\n",
    "    label = torch.zeros((nb_tags,))\n",
    "    label[tag_map[tag]] = 1.\n",
    "    if train_graph.has_edge(source ,target):\n",
    "        train_graph[source][target][tag] = label\n",
    "    else:\n",
    "        train_graph.add_edge(source, target, **{tag: label})"
   ]
  },
  {
   "cell_type": "code",
   "execution_count": 12,
   "metadata": {},
   "outputs": [
    {
     "name": "stdout",
     "output_type": "stream",
     "text": [
      "18\n",
      "{'_also_see': 0, '_derivationally_related_form': 1, '_has_part': 2, '_hypernym': 3, '_hyponym': 4, '_instance_hypernym': 5, '_instance_hyponym': 6, '_member_holonym': 7, '_member_meronym': 8, '_member_of_domain_region': 9, '_member_of_domain_topic': 10, '_member_of_domain_usage': 11, '_part_of': 12, '_similar_to': 13, '_synset_domain_region_of': 14, '_synset_domain_topic_of': 15, '_synset_domain_usage_of': 16, '_verb_group': 17}\n",
      "41104\n"
     ]
    }
   ],
   "source": []
  },
  {
   "cell_type": "code",
   "execution_count": null,
   "metadata": {},
   "outputs": [],
   "source": []
  }
 ],
 "metadata": {
  "kernelspec": {
   "display_name": "Python 3",
   "language": "python",
   "name": "python3"
  },
  "language_info": {
   "codemirror_mode": {
    "name": "ipython",
    "version": 3
   },
   "file_extension": ".py",
   "mimetype": "text/x-python",
   "name": "python",
   "nbconvert_exporter": "python",
   "pygments_lexer": "ipython3",
   "version": "3.7.3"
  }
 },
 "nbformat": 4,
 "nbformat_minor": 4
}
