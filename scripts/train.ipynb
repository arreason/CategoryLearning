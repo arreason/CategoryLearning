{
 "cells": [
  {
   "cell_type": "code",
   "execution_count": null,
   "metadata": {
    "tags": []
   },
   "outputs": [],
   "source": [
    "%matplotlib inline\n",
    "%load_ext autoreload\n",
    "%autoreload 2\n",
    "%config IPCompleter.greedy=True"
   ]
  },
  {
   "cell_type": "code",
   "execution_count": null,
   "metadata": {},
   "outputs": [],
   "source": [
    "# MODIFY LIBRARY PATH\n",
    "import os\n",
    "from pathlib import Path\n",
    "lib_path = Path('/home/fastuser/CategoryLearning')\n",
    "os.chdir(lib_path)\n",
    "os.getcwd()"
   ]
  },
  {
   "cell_type": "code",
   "execution_count": null,
   "metadata": {},
   "outputs": [],
   "source": [
    "from typing import Callable, Iterable, Any\n",
    "import sys\n",
    "import torch\n",
    "import random\n",
    "import numpy as np\n",
    "import networkx as nx\n",
    "import collections\n",
    "from tqdm import (trange, tqdm)\n",
    "from matplotlib import pyplot as plt\n",
    "from catlearn.data.dataset import Dataset\n",
    "from catlearn.tensor_utils import (Tsor, DEFAULT_EPSILON)\n",
    "from catlearn.graph_utils import (DirectedGraph,\n",
    "                                    uniform_sample,\n",
    "                                    random_walk_edge_sample,\n",
    "                                    random_walk_vertex_sample,\n",
    "                                    clean_selfloops,\n",
    "                                    augment_graph,\n",
    "                                    create_revers_rels)\n",
    "from catlearn.algebra_models import (Algebra, VectAlgebra, VectMultAlgebra)\n",
    "from catlearn.composition_graph import CompositeArrow\n",
    "from catlearn.categorical_model import (TrainableDecisionCatModel, RelationModel,\n",
    "                                        ScoringModel)"
   ]
  },
  {
   "cell_type": "code",
   "execution_count": null,
   "metadata": {},
   "outputs": [],
   "source": [
    "# > VS CODE SPECIFIC <\n",
    "# Uncoment if run in VS Code embeded notebook\n",
    "# import warnings\n",
    "# Needed to show warnings in VS Code integrade jupyter\n",
    "# warnings.simplefilter(action=\"default\")"
   ]
  },
  {
   "cell_type": "code",
   "execution_count": null,
   "metadata": {},
   "outputs": [],
   "source": [
    "# Enable reproducibility\n",
    "# https://pytorch.org/docs/stable/notes/randomness.html\n",
    "np.random.seed(42)\n",
    "torch.manual_seed(42)\n",
    "# Unable to use below command with True as non-deterministics algos are used by CUDA\n",
    "torch.set_deterministic(False)"
   ]
  },
  {
   "cell_type": "code",
   "execution_count": null,
   "metadata": {},
   "outputs": [],
   "source": [
    "# CHECK GPU\n",
    "!nvidia-smi\n",
    "print(torch.cuda.device(0))\n",
    "print(torch.cuda.device_count())\n",
    "print(torch.cuda.get_device_name(0))\n",
    "print(torch.cuda.is_available())\n",
    "# CHECK KERNEL PYTHON VERSION\n",
    "print(sys.version)"
   ]
  },
  {
   "cell_type": "markdown",
   "metadata": {},
   "source": [
    "For weights and biases integration, run in terminal:  \n",
    "```wandb login```\n",
    "On request to enter API key, pasthe the key from website.  \n",
    "Last valid key ```ca29a13bf2ac0110134723b00696d94b9a6ad032```  \n",
    "Check that you are logged as ```arreason-labs```"
   ]
  },
  {
   "cell_type": "code",
   "execution_count": null,
   "metadata": {},
   "outputs": [],
   "source": [
    "from wandb_logger import log_results, save_params"
   ]
  },
  {
   "cell_type": "markdown",
   "metadata": {},
   "source": [
    "# IMPORTANT SET BELOW ```default_tensor = torch.cuda.FloatTensor``` FOR GPU\n"
   ]
  },
  {
   "cell_type": "code",
   "execution_count": null,
   "metadata": {},
   "outputs": [],
   "source": [
    "# Select default type: https://pytorch.org/docs/stable/tensors.html\n",
    "# default_tensor = torch.FloatTensor\n",
    "default_tensor = torch.cuda.FloatTensor\n",
    "torch.set_default_tensor_type(default_tensor)\n",
    "default_tensor.dtype"
   ]
  },
  {
   "cell_type": "code",
   "execution_count": null,
   "metadata": {},
   "outputs": [],
   "source": [
    "# Specify dataset path\n",
    "# ds_path_wn18 = './Datasets/wn18rr/text'\n",
    "ds_path_wn18 = lib_path/'Datasets/wn18rr/text'\n",
    "# ds_path_fb15 = './Datasets/fb15k-237'"
   ]
  },
  {
   "cell_type": "code",
   "execution_count": null,
   "metadata": {},
   "outputs": [],
   "source": [
    "ds_wn18 = Dataset(path=ds_path_wn18, ds_name='wn18', node_vec_dim=10)"
   ]
  },
  {
   "cell_type": "code",
   "execution_count": null,
   "metadata": {},
   "outputs": [],
   "source": [
    "# MODIFY BELOW TO USE RIGHT DATASET\n",
    "ds = ds_wn18"
   ]
  },
  {
   "cell_type": "markdown",
   "metadata": {},
   "source": [
    "# Check dataset has multiconnections"
   ]
  },
  {
   "cell_type": "code",
   "execution_count": null,
   "metadata": {},
   "outputs": [],
   "source": [
    "# ds_l = list(ds_wn18.train)\n",
    "# ds_l_edges = [(tpl[0], tpl[1]) for tpl in ds_l]\n",
    "# cnt_edges = collections.Counter(ds_l_edges)\n",
    "# cnt_edges = sorted(cnt_edges.items(), key=lambda item: item[1], reverse=True)\n",
    "# cnt_edges_multi = [tpl for tpl in cnt_edges if tpl[1] > 1]\n",
    "# ds.train = ds_l\n",
    "# print(f'Edges with 2 relations: {len(cnt_edges_multi)}')\n",
    "# print(f'Max number of multirelations: {max([cnt for edge, cnt in cnt_edges_multi])}')"
   ]
  },
  {
   "cell_type": "markdown",
   "metadata": {},
   "source": [
    "## Create training graphg"
   ]
  },
  {
   "cell_type": "code",
   "execution_count": null,
   "metadata": {},
   "outputs": [],
   "source": [
    "graph_labels = DirectedGraph(ds.train)"
   ]
  },
  {
   "cell_type": "markdown",
   "metadata": {},
   "source": [
    "## Clean graph"
   ]
  },
  {
   "cell_type": "code",
   "execution_count": null,
   "metadata": {},
   "outputs": [],
   "source": [
    "clean_selfloops(graph_labels)"
   ]
  },
  {
   "cell_type": "code",
   "execution_count": null,
   "metadata": {},
   "outputs": [],
   "source": [
    "print(nx.info(graph_labels))"
   ]
  },
  {
   "cell_type": "markdown",
   "metadata": {},
   "source": [
    "# Augment graph"
   ]
  },
  {
   "cell_type": "code",
   "execution_count": null,
   "metadata": {
    "jupyter": {
     "source_hidden": true
    }
   },
   "outputs": [],
   "source": [
    "relation_revers = {\n",
    "    '_hypernym': None,\n",
    "    '_derivationally_related_form': '_derivationally_related_form',\n",
    "    '_member_meronym': None,\n",
    "    '_has_part': None,\n",
    "    '_synset_domain_topic_of': None,\n",
    "    '_instance_hypernym' : None,\n",
    "    '_also_see': '_also_see',\n",
    "    '_verb_group': '_verb_group',\n",
    "    '_member_of_domain_usage': None,\n",
    "    '_member_of_domain_region': None,\n",
    "    '_similar_to': '_similar_to',\n",
    "}"
   ]
  },
  {
   "cell_type": "code",
   "execution_count": null,
   "metadata": {},
   "outputs": [],
   "source": [
    "relation2id_augmented, relation_id2vec_augmented, revers_rels = create_revers_rels(relation_revers, ds.relation2id)"
   ]
  },
  {
   "cell_type": "code",
   "execution_count": null,
   "metadata": {},
   "outputs": [],
   "source": [
    "augment_graph(graph_labels, revers_rels)"
   ]
  },
  {
   "cell_type": "markdown",
   "metadata": {},
   "source": [
    "# Print graphs stats"
   ]
  },
  {
   "cell_type": "code",
   "execution_count": null,
   "metadata": {},
   "outputs": [],
   "source": [
    "print(nx.info(graph_labels))"
   ]
  },
  {
   "cell_type": "markdown",
   "metadata": {},
   "source": [
    "# Define Relation model"
   ]
  },
  {
   "cell_type": "code",
   "execution_count": null,
   "metadata": {},
   "outputs": [],
   "source": [
    "class CustomRelation(RelationModel):\n",
    "    \"\"\" \n",
    "    \"\"\"\n",
    "    def __init__(self, nb_features: int, nb_labels: int, algebra: Algebra) -> None:\n",
    "        self.linear = torch.nn.Linear(2 * nb_features + nb_labels, algebra.flatdim)\n",
    "\n",
    "    def named_parameters(self, recurse: bool = True) -> Iterable[Tsor]:\n",
    "        return self.linear.named_parameters(recurse=recurse)\n",
    "\n",
    "    def __call__(self, x: Tsor, y: Tsor, l: Tsor) -> Tsor:\n",
    "        \"\"\" Compute x R y \"\"\"\n",
    "        return self.linear(torch.cat((x, y, l), -1))"
   ]
  },
  {
   "cell_type": "markdown",
   "metadata": {},
   "source": [
    "# Define Score model"
   ]
  },
  {
   "cell_type": "code",
   "execution_count": null,
   "metadata": {
    "jupyter": {
     "source_hidden": true
    }
   },
   "outputs": [],
   "source": [
    "class CustomScore(ScoringModel):\n",
    "    \"\"\" Must be defined. depends on algebra and \n",
    "    in the scope of definition of the project. \"\"\"\n",
    "    def __init__(\n",
    "            self,\n",
    "            nb_features: int,\n",
    "            nb_scores: int,\n",
    "            algebra: Algebra) -> None:\n",
    "        self.linear = torch.nn.Linear(\n",
    "            2 * nb_features + algebra.flatdim, nb_scores + 1)\n",
    "        self.softmax = torch.nn.Softmax(dim=-1)\n",
    "\n",
    "    def named_parameters(self, recurse: bool = True) -> Iterable[Tsor]:\n",
    "        return self.linear.named_parameters(recurse=recurse)\n",
    "\n",
    "    def __call__(self, src: Tsor, dst: Tsor, rel: Tsor) -> Tsor:\n",
    "        \"\"\" Compute S(src, dst, rel) \"\"\"\n",
    "        cat_input = torch.cat((src, dst, rel), -1)\n",
    "        return self.softmax(self.linear(cat_input))[..., :-1]"
   ]
  },
  {
   "cell_type": "markdown",
   "metadata": {},
   "source": [
    "# Create training models"
   ]
  },
  {
   "cell_type": "code",
   "execution_count": null,
   "metadata": {},
   "outputs": [],
   "source": [
    "algebra = VectMultAlgebra(ds.entity_vec_dim)"
   ]
  },
  {
   "cell_type": "code",
   "execution_count": null,
   "metadata": {},
   "outputs": [],
   "source": [
    "relation_model = CustomRelation(\n",
    "    nb_features=ds.entity_vec_dim,\n",
    "    nb_labels=len(ds.relation2id),\n",
    "    algebra=algebra\n",
    ")"
   ]
  },
  {
   "cell_type": "code",
   "execution_count": null,
   "metadata": {},
   "outputs": [],
   "source": [
    "# check if realtions set is modified after augmentation\n",
    "assert relation2id_augmented == ds.relation2id"
   ]
  },
  {
   "cell_type": "code",
   "execution_count": null,
   "metadata": {},
   "outputs": [],
   "source": [
    "scoring_model = CustomScore(\n",
    "    nb_features=ds.entity_vec_dim,\n",
    "    nb_scores=len(relation2id_augmented),\n",
    "    algebra=algebra\n",
    ")"
   ]
  },
  {
   "cell_type": "code",
   "execution_count": null,
   "metadata": {},
   "outputs": [],
   "source": [
    "model = TrainableDecisionCatModel(\n",
    "    relation_model=relation_model,\n",
    "    label_universe=relation_id2vec_augmented,\n",
    "    scoring_model=scoring_model,\n",
    "    algebra_model=algebra,\n",
    "    optimizer=torch.optim.Adam,\n",
    "    epsilon=DEFAULT_EPSILON\n",
    ")"
   ]
  },
  {
   "cell_type": "code",
   "execution_count": null,
   "metadata": {},
   "outputs": [],
   "source": [
    "# DEBUG NOTE: datatype comparaison\n",
    "# Dataset interable format [src:int, tgt:int, lbl: {id:int: None}]\n",
    "# CompositeArrow data format:  [[src: int, tgt: int], [label: int]]"
   ]
  },
  {
   "cell_type": "markdown",
   "metadata": {},
   "source": [
    "# Create training loop"
   ]
  },
  {
   "cell_type": "code",
   "execution_count": null,
   "metadata": {},
   "outputs": [],
   "source": [
    "def graph_to_nodes_edges(graph: DirectedGraph):\n",
    "    nodes = ((src, dst) for src, dst in graph.edges(data=False))\n",
    "    edges = (list(rel.keys()) for _, _, rel in graph.edges(data=True))\n",
    "    return nodes, edges"
   ]
  },
  {
   "cell_type": "code",
   "execution_count": null,
   "metadata": {},
   "outputs": [],
   "source": [
    "def nodes_edges_to_arrows(nodes, edges):\n",
    "    return [CompositeArrow(nodes=node_pair, arrows=[edge]) for node_pair, edges in zip(nodes, edges) for edge in edges]"
   ]
  },
  {
   "cell_type": "code",
   "execution_count": null,
   "metadata": {},
   "outputs": [],
   "source": [
    "def plot_subgraphs(subgraph, plot_nth=5, graph_info=True):\n",
    "    \"\"\"Plot each n'th subgraph for debug\"\"\"\n",
    "    if not i % plot_nth:\n",
    "        nx.draw_networkx(subgraph)\n",
    "        plt.show()\n",
    "        if graph_info: print(nx.info(subgraph))"
   ]
  },
  {
   "cell_type": "code",
   "execution_count": null,
   "metadata": {
    "tags": []
   },
   "outputs": [],
   "source": [
    "# NOTE: for large graphs, random_walk functions family can be used to sub-sample graph\n",
    "# while preserving its topology \n",
    "for i in trange(100, desc='1st epoque'):\n",
    "    sampled_subgraph = uniform_sample(graph=graph_labels, sample_vertices_size=256, rng=random.Random(), with_edges=True)\n",
    "    plot_subgraphs(sampled_subgraph, plot_nth=20)\n",
    "    nodes, edges = graph_to_nodes_edges(sampled_subgraph)\n",
    "    # !Numbers of arrows == N unique labels. It's >= to number of edges because some edges have multiple edges.\n",
    "    arrows = nodes_edges_to_arrows(nodes, edges)\n",
    "    cache, matches = model.train(\n",
    "        data_points = ds.entity_id2vec,\n",
    "        relations = arrows,\n",
    "        # NOTE: Labels could be a couplete graph, a subgraph from random_walk or a sub-sub-graph used to create a batch\n",
    "        labels = sampled_subgraph,\n",
    "        step = True,\n",
    "        match_negatives=False\n",
    "    )\n",
    "    log_results(cache, matches)"
   ]
  },
  {
   "cell_type": "code",
   "execution_count": null,
   "metadata": {},
   "outputs": [],
   "source": [
    "save_params(model)"
   ]
  }
 ],
 "metadata": {
  "kernelspec": {
   "display_name": "Python 3",
   "language": "python",
   "name": "python3"
  },
  "language_info": {
   "codemirror_mode": {
    "name": "ipython",
    "version": 3
   },
   "file_extension": ".py",
   "mimetype": "text/x-python",
   "name": "python",
   "nbconvert_exporter": "python",
   "pygments_lexer": "ipython3",
   "version": "3.8.6"
  }
 },
 "nbformat": 4,
 "nbformat_minor": 4
}
