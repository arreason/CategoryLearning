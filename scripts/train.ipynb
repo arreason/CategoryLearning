{
 "metadata": {
  "language_info": {
   "codemirror_mode": {
    "name": "ipython",
    "version": 3
   },
   "file_extension": ".py",
   "mimetype": "text/x-python",
   "name": "python",
   "nbconvert_exporter": "python",
   "pygments_lexer": "ipython3",
   "version": "3.8.5-final"
  },
  "orig_nbformat": 2,
  "kernelspec": {
   "name": "python3",
   "display_name": "Python 3"
  }
 },
 "nbformat": 4,
 "nbformat_minor": 2,
 "cells": [
  {
   "cell_type": "code",
   "execution_count": null,
   "metadata": {
    "tags": []
   },
   "outputs": [],
   "source": [
    "%matplotlib inline\n",
    "%load_ext autoreload\n",
    "%autoreload 2"
   ]
  },
  {
   "cell_type": "code",
   "execution_count": null,
   "metadata": {},
   "outputs": [],
   "source": [
    "# CHECK WORKIND DIR PATH\n",
    "import os\n",
    "# MODIFY SYSTEM PATH\n",
    "os.chdir('/Users/igorgarbuz/Dev/catlearn')\n",
    "os.getcwd()"
   ]
  },
  {
   "cell_type": "code",
   "execution_count": null,
   "metadata": {},
   "outputs": [],
   "source": [
    "from typing import Callable, Iterable, Any\n",
    "import sys\n",
    "import torch\n",
    "import random\n",
    "import warnings\n",
    "# Needed to show warnings in all Jupyter distributions (e.g. VS Code Jupyter implementation)\n",
    "warnings.simplefilter(action=\"default\")\n",
    "from tqdm import tnrange\n",
    "sys.path.append('../catlearn')\n",
    "from catlearn.data.dataset import Dataset\n",
    "from catlearn.tensor_utils import (Tsor, DEFAULT_EPSILON)\n",
    "from catlearn.graph_utils import (DirectedGraph, uniform_sample, random_walk_edge_sample,\n",
    "                                    random_walk_vertex_sample)\n",
    "from catlearn.algebra_models import (Algebra, VectAlgebra, VectMultAlgebra)\n",
    "from catlearn.composition_graph import CompositeArrow\n",
    "from catlearn.categorical_model import (TrainableDecisionCatModel, RelationModel,\n",
    "                                        ScoringModel)"
   ]
  },
  {
   "cell_type": "code",
   "execution_count": null,
   "metadata": {},
   "outputs": [],
   "source": [
    "# DEBUG: Tools to export networkx graph\n",
    "from networkx import to_dict_of_lists, to_dict_of_dicts"
   ]
  },
  {
   "cell_type": "code",
   "execution_count": null,
   "metadata": {},
   "outputs": [],
   "source": [
    "# Select default type: https://pytorch.org/docs/stable/tensors.html\n",
    "default_tensor = torch.FloatTensor\n",
    "# default_tensor = torch.cuda.FloatTensor\n",
    "torch.set_default_tensor_type(default_tensor)\n",
    "# Check default tensor datatype\n",
    "default_tensor.dtype"
   ]
  },
  {
   "cell_type": "code",
   "execution_count": null,
   "metadata": {},
   "outputs": [],
   "source": [
    "class CustomRelation(RelationModel):\n",
    "    \"\"\" Fake relations\n",
    "    two nodes and rel\n",
    "    \"\"\"\n",
    "    def __init__(self, nb_features: int, nb_labels: int, algebra: Algebra) -> None:\n",
    "        self.linear = torch.nn.Linear(2 * nb_features + nb_labels, algebra.flatdim)\n",
    "\n",
    "    @property\n",
    "    def parameters(self) -> Callable[[], Iterable[Any]]:\n",
    "        return self.linear.parameters\n",
    "\n",
    "    def __call__(self, x: Tsor, y: Tsor, l: Tsor) -> Tsor:\n",
    "        \"\"\" Compute x R y \"\"\"\n",
    "        return self.linear(torch.cat((x, y, l), -1))"
   ]
  },
  {
   "cell_type": "code",
   "execution_count": null,
   "metadata": {},
   "outputs": [],
   "source": [
    "class CustomScore(ScoringModel):\n",
    "    \"\"\" Must be defined. depends on algebra and \n",
    "    in the scope of definition of the project. \"\"\"\n",
    "    def __init__(\n",
    "            self,\n",
    "            nb_features: int,\n",
    "            nb_scores: int,\n",
    "            algebra: Algebra) -> None:\n",
    "        self.linear = torch.nn.Linear(\n",
    "            2 * nb_features + algebra.flatdim, nb_scores + 1)\n",
    "        self.softmax = torch.nn.Softmax(dim=-1)\n",
    "\n",
    "    @property\n",
    "    def parameters(self) -> Callable[[], Iterable[Any]]:\n",
    "        return self.linear.parameters\n",
    "\n",
    "    def __call__(self, src: Tsor, dst: Tsor, rel: Tsor) -> Tsor:\n",
    "        \"\"\" Compute S(src, dst, rel) \"\"\"\n",
    "        cat_input = torch.cat((src, dst, rel), -1)\n",
    "        return self.softmax(self.linear(cat_input))[..., :-1]"
   ]
  },
  {
   "cell_type": "code",
   "execution_count": null,
   "metadata": {},
   "outputs": [],
   "source": [
    "# Specify dataset path\n",
    "ds_path_wn18 = '/Users/igorgarbuz/Dev/catlearn/datasets/wn18rr/text'\n",
    "ds_path_fb15 = '/Users/igorgarbuz/Dev/catlearn/datasets/fb15k-237'"
   ]
  },
  {
   "cell_type": "code",
   "execution_count": null,
   "metadata": {},
   "outputs": [],
   "source": [
    "ds_wn18 = Dataset(path=ds_path_wn18, ds_name='wn18', node_vec_dim=10)"
   ]
  },
  {
   "cell_type": "code",
   "execution_count": null,
   "metadata": {},
   "outputs": [],
   "source": [
    "# ds_fb15 = Dataset(path=ds_path_fb15, ds_name='fb15', node_vec_dim=10)"
   ]
  },
  {
   "cell_type": "code",
   "execution_count": null,
   "metadata": {},
   "outputs": [],
   "source": [
    "# MODIFY BELOW TO USE RIGHT DATASET\n",
    "ds = ds_wn18"
   ]
  },
  {
   "cell_type": "code",
   "execution_count": null,
   "metadata": {},
   "outputs": [],
   "source": [
    "# DEBUG: convert dataset to a list\n",
    "# ds_l = list(ds.train)"
   ]
  },
  {
   "cell_type": "code",
   "execution_count": null,
   "metadata": {},
   "outputs": [],
   "source": [
    "algebra = VectMultAlgebra(ds.entity_vec_dim)"
   ]
  },
  {
   "cell_type": "code",
   "execution_count": null,
   "metadata": {},
   "outputs": [],
   "source": [
    "relation_model = CustomRelation(\n",
    "    nb_features=ds.entity_vec_dim,\n",
    "    nb_labels=len(ds.relation2id),\n",
    "    algebra=algebra\n",
    ")"
   ]
  },
  {
   "cell_type": "code",
   "execution_count": null,
   "metadata": {},
   "outputs": [],
   "source": [
    "scoring_model = CustomScore(\n",
    "    nb_features=ds.entity_vec_dim,\n",
    "    nb_scores=len(ds.relation2id),\n",
    "    algebra=algebra\n",
    ")"
   ]
  },
  {
   "cell_type": "code",
   "execution_count": null,
   "metadata": {},
   "outputs": [],
   "source": [
    "model = TrainableDecisionCatModel(\n",
    "    relation_model=relation_model,\n",
    "    label_universe=ds.relation_id2vec,\n",
    "    scoring_model=scoring_model,\n",
    "    algebra_model=algebra,\n",
    "    optimizer=torch.optim.Adam,\n",
    "    epsilon=DEFAULT_EPSILON\n",
    ")"
   ]
  },
  {
   "cell_type": "code",
   "execution_count": null,
   "metadata": {},
   "outputs": [],
   "source": [
    "# DEBUG: Represent graph as dict of dicts or dict of lists\n",
    "# dod = to_dict_of_dicts(labels)\n",
    "# dod[10698]\n",
    "# dol = to_dict_of_lists(labels)\n",
    "# dol[10698]"
   ]
  },
  {
   "cell_type": "code",
   "execution_count": null,
   "metadata": {},
   "outputs": [],
   "source": [
    "# DEBUG: check OHE relations encoding\n",
    "ds.relation_id2vec"
   ]
  },
  {
   "cell_type": "code",
   "execution_count": null,
   "metadata": {},
   "outputs": [],
   "source": [
    "# DEBUG: check relations to id conversion dict\n",
    "ds.relation2id"
   ]
  },
  {
   "cell_type": "code",
   "execution_count": null,
   "metadata": {},
   "outputs": [],
   "source": [
    "# DEBUG NOTE: datatype comparaison\n",
    "# Dataset interable format [src:int, tgt:int, lbl: {id:int: vec:Tsor}]\n",
    "# CompositeArrow data format:  [[src: int, tgt: int], [label: int]]"
   ]
  },
  {
   "cell_type": "code",
   "execution_count": null,
   "metadata": {},
   "outputs": [],
   "source": [
    "graph_labels = DirectedGraph(ds.train)"
   ]
  },
  {
   "cell_type": "code",
   "execution_count": null,
   "metadata": {},
   "outputs": [],
   "source": [
    "def graph_to_composite_arrow(graph: DirectedGraph):\n",
    "    nodes = [(src, dst) for src, dst, _ in graph.edges(data=True)]\n",
    "    edges = [list(rel.keys()) for _, _, rel in graph.edges(data=True)]\n",
    "    return nodes, edges"
   ]
  },
  {
   "cell_type": "code",
   "execution_count": null,
   "metadata": {},
   "outputs": [],
   "source": []
  },
  {
   "cell_type": "code",
   "execution_count": null,
   "metadata": {},
   "outputs": [],
   "source": []
  },
  {
   "cell_type": "code",
   "execution_count": null,
   "metadata": {
    "tags": []
   },
   "outputs": [],
   "source": [
    "# NOTE: for large graphs, random_walk functions family can be used to sub-sample graph\n",
    "# while preserving its topology \n",
    "for i in tnrange(10, desc='1st loop: batches'):\n",
    "    arrows_graph = uniform_sample(graph=graph_labels, sample_vertices_size=7, rng=random.Random(), with_edges=True)\n",
    "    nodes, edges = graph_to_composite_arrow(arrows_graph)\n",
    "    if edges:\n",
    "        arrows = [CompositeArrow(nodes=node, arrows=edge) for node, edge in zip(nodes, edges)]\n",
    "    else:\n",
    "        arrows = [CompositeArrow(nodes=node) for node in nodes]\n",
    "    _cache, _matches = model.train(\n",
    "        data_points = ds.entity_id2vec,\n",
    "        relations = arrows,\n",
    "        # NOTE: Labels could be a couplete graph, a subgraph from random_walk or a sub-sub-graph used to create a batch\n",
    "        labels = arrows_graph,\n",
    "        step = True,\n",
    "        match_negatives=False\n",
    "    )"
   ]
  },
  {
   "cell_type": "code",
   "execution_count": null,
   "metadata": {},
   "outputs": [],
   "source": []
  }
 ]
}