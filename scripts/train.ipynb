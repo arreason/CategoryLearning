{
 "metadata": {
  "language_info": {
   "codemirror_mode": {
    "name": "ipython",
    "version": 3
   },
   "file_extension": ".py",
   "mimetype": "text/x-python",
   "name": "python",
   "nbconvert_exporter": "python",
   "pygments_lexer": "ipython3",
   "version": "3.8.5-final"
  },
  "orig_nbformat": 2,
  "kernelspec": {
   "name": "python3",
   "display_name": "Python 3"
  }
 },
 "nbformat": 4,
 "nbformat_minor": 2,
 "cells": [
  {
   "cell_type": "code",
   "execution_count": 1,
   "metadata": {
    "tags": []
   },
   "outputs": [],
   "source": [
    "%matplotlib inline\n",
    "%load_ext autoreload\n",
    "%autoreload 2"
   ]
  },
  {
   "cell_type": "code",
   "execution_count": 2,
   "metadata": {},
   "outputs": [
    {
     "output_type": "execute_result",
     "data": {
      "text/plain": [
       "'/home/christophe/workspace/arreason/CategoryLearning'"
      ]
     },
     "metadata": {},
     "execution_count": 2
    }
   ],
   "source": [
    "# CHECK WORKIND DIR PATH\n",
    "import os\n",
    "# MODIFY SYSTEM PATH\n",
    "os.chdir('../')\n",
    "os.getcwd()"
   ]
  },
  {
   "cell_type": "code",
   "execution_count": 3,
   "metadata": {},
   "outputs": [
    {
     "output_type": "stream",
     "name": "stderr",
     "text": [
      "<frozen importlib._bootstrap>:219: RuntimeWarning: numpy.ufunc size changed, may indicate binary incompatibility. Expected 192 from C header, got 216 from PyObject\n<frozen importlib._bootstrap>:219: RuntimeWarning: numpy.ufunc size changed, may indicate binary incompatibility. Expected 192 from C header, got 216 from PyObject\n"
     ]
    }
   ],
   "source": [
    "from typing import Callable, Iterable, Any\n",
    "import sys\n",
    "import torch\n",
    "import random\n",
    "import warnings\n",
    "# Needed to show warnings in all Jupyter distributions (e.g. VS Code Jupyter implementation)\n",
    "warnings.simplefilter(action=\"default\")\n",
    "from tqdm import tnrange\n",
    "sys.path.append('../catlearn')\n",
    "from catlearn.data.dataset import Dataset\n",
    "from catlearn.tensor_utils import (Tsor, DEFAULT_EPSILON)\n",
    "from catlearn.graph_utils import (DirectedGraph, uniform_sample, random_walk_edge_sample,\n",
    "                                    random_walk_vertex_sample)\n",
    "from catlearn.algebra_models import (Algebra, VectAlgebra, VectMultAlgebra)\n",
    "from catlearn.composition_graph import CompositeArrow\n",
    "from catlearn.categorical_model import (TrainableDecisionCatModel, RelationModel,\n",
    "                                        ScoringModel)"
   ]
  },
  {
   "cell_type": "code",
   "execution_count": 4,
   "metadata": {},
   "outputs": [
    {
     "output_type": "stream",
     "name": "stderr",
     "text": [
      "/home/christophe/workspace/arreason/CategoryLearning/Python/lib/python3.8/site-packages/ipykernel/ipkernel.py:287: DeprecationWarning: `should_run_async` will not call `transform_cell` automatically in the future. Please pass the result to `transformed_cell` argument and any exception that happen during thetransform in `preprocessing_exc_tuple` in IPython 7.17 and above.\n",
      "  and should_run_async(code)\n",
      "/home/christophe/workspace/arreason/CategoryLearning/Python/lib/python3.8/site-packages/wandb/util.py:36: DeprecationWarning: Using or importing the ABCs from 'collections' instead of from 'collections.abc' is deprecated since Python 3.3, and in 3.9 it will stop working\n",
      "  from collections import namedtuple, Mapping, Sequence\n",
      "/home/christophe/workspace/arreason/CategoryLearning/Python/lib/python3.8/site-packages/wandb/vendor/graphql-core-1.1/graphql/type/directives.py:55: DeprecationWarning: Using or importing the ABCs from 'collections' instead of from 'collections.abc' is deprecated since Python 3.3, and in 3.9 it will stop working\n",
      "  assert isinstance(locations, collections.Iterable), 'Must provide locations for directive.'\n",
      "\u001b[34m\u001b[1mwandb\u001b[0m: Currently logged in as: \u001b[33mcculan\u001b[0m (use `wandb login --relogin` to force relogin)\n"
     ]
    },
    {
     "output_type": "display_data",
     "data": {
      "text/plain": "<IPython.core.display.HTML object>",
      "text/html": "\n                Tracking run with wandb version 0.10.10<br/>\n                Syncing run <strong style=\"color:#cdcd00\">vivid-totem-8</strong> to <a href=\"https://wandb.ai\" target=\"_blank\">Weights & Biases</a> <a href=\"https://docs.wandb.com/integrations/jupyter.html\" target=\"_blank\">(Documentation)</a>.<br/>\n                Project page: <a href=\"https://wandb.ai/cculan/catlearn\" target=\"_blank\">https://wandb.ai/cculan/catlearn</a><br/>\n                Run page: <a href=\"https://wandb.ai/cculan/catlearn/runs/20wteegr\" target=\"_blank\">https://wandb.ai/cculan/catlearn/runs/20wteegr</a><br/>\n                Run data is saved locally in <code>/home/christophe/workspace/arreason/CategoryLearning/wandb/run-20201117_133538-20wteegr</code><br/><br/>\n            "
     },
     "metadata": {}
    }
   ],
   "source": [
    "from wandb_logger import log_results"
   ]
  },
  {
   "cell_type": "code",
   "execution_count": 5,
   "metadata": {},
   "outputs": [
    {
     "output_type": "stream",
     "name": "stderr",
     "text": [
      "/home/christophe/workspace/arreason/CategoryLearning/Python/lib/python3.8/site-packages/ipykernel/ipkernel.py:287: DeprecationWarning: `should_run_async` will not call `transform_cell` automatically in the future. Please pass the result to `transformed_cell` argument and any exception that happen during thetransform in `preprocessing_exc_tuple` in IPython 7.17 and above.\n  and should_run_async(code)\n"
     ]
    }
   ],
   "source": [
    "# DEBUG: Tools to export networkx graph\n",
    "from networkx import to_dict_of_lists, to_dict_of_dicts"
   ]
  },
  {
   "cell_type": "code",
   "execution_count": 6,
   "metadata": {},
   "outputs": [
    {
     "output_type": "execute_result",
     "data": {
      "text/plain": [
       "torch.float32"
      ]
     },
     "metadata": {},
     "execution_count": 6
    }
   ],
   "source": [
    "# Select default type: https://pytorch.org/docs/stable/tensors.html\n",
    "default_tensor = torch.FloatTensor\n",
    "# default_tensor = torch.cuda.FloatTensor\n",
    "torch.set_default_tensor_type(default_tensor)\n",
    "# Check default tensor datatype\n",
    "default_tensor.dtype"
   ]
  },
  {
   "cell_type": "code",
   "execution_count": 7,
   "metadata": {},
   "outputs": [],
   "source": [
    "class CustomRelation(RelationModel):\n",
    "    \"\"\" Fake relations\n",
    "    two nodes and rel\n",
    "    \"\"\"\n",
    "    def __init__(self, nb_features: int, nb_labels: int, algebra: Algebra) -> None:\n",
    "        self.linear = torch.nn.Linear(2 * nb_features + nb_labels, algebra.flatdim)\n",
    "\n",
    "    @property\n",
    "    def parameters(self) -> Callable[[], Iterable[Any]]:\n",
    "        return self.linear.parameters\n",
    "\n",
    "    def __call__(self, x: Tsor, y: Tsor, l: Tsor) -> Tsor:\n",
    "        \"\"\" Compute x R y \"\"\"\n",
    "        return self.linear(torch.cat((x, y, l), -1))"
   ]
  },
  {
   "cell_type": "code",
   "execution_count": 8,
   "metadata": {},
   "outputs": [],
   "source": [
    "class CustomScore(ScoringModel):\n",
    "    \"\"\" Must be defined. depends on algebra and \n",
    "    in the scope of definition of the project. \"\"\"\n",
    "    def __init__(\n",
    "            self,\n",
    "            nb_features: int,\n",
    "            nb_scores: int,\n",
    "            algebra: Algebra) -> None:\n",
    "        self.linear = torch.nn.Linear(\n",
    "            2 * nb_features + algebra.flatdim, nb_scores + 1)\n",
    "        self.softmax = torch.nn.Softmax(dim=-1)\n",
    "\n",
    "    @property\n",
    "    def parameters(self) -> Callable[[], Iterable[Any]]:\n",
    "        return self.linear.parameters\n",
    "\n",
    "    def __call__(self, src: Tsor, dst: Tsor, rel: Tsor) -> Tsor:\n",
    "        \"\"\" Compute S(src, dst, rel) \"\"\"\n",
    "        cat_input = torch.cat((src, dst, rel), -1)\n",
    "        return self.softmax(self.linear(cat_input))[..., :-1]"
   ]
  },
  {
   "cell_type": "code",
   "execution_count": 9,
   "metadata": {},
   "outputs": [],
   "source": [
    "# Specify dataset path\n",
    "ds_path_wn18 = './Datasets/wn18rr/text'\n",
    "ds_path_fb15 = './Datasets/fb15k-237'"
   ]
  },
  {
   "cell_type": "code",
   "execution_count": 10,
   "metadata": {},
   "outputs": [
    {
     "output_type": "stream",
     "name": "stderr",
     "text": [
      "/home/christophe/workspace/arreason/CategoryLearning/catlearn/data/dataset.py:123: ResourceWarning: unclosed file <_io.TextIOWrapper name='Datasets/wn18rr/text/entity_to_id.txt' mode='r' encoding='UTF-8'>\n  return {e: int(id) for e, id in id_map}\nResourceWarning: Enable tracemalloc to get the object allocation traceback\n/home/christophe/workspace/arreason/CategoryLearning/catlearn/data/dataset.py:123: ResourceWarning: unclosed file <_io.TextIOWrapper name='Datasets/wn18rr/text/relation_to_id.txt' mode='r' encoding='UTF-8'>\n  return {e: int(id) for e, id in id_map}\nResourceWarning: Enable tracemalloc to get the object allocation traceback\n"
     ]
    }
   ],
   "source": [
    "ds_wn18 = Dataset(path=ds_path_wn18, ds_name='wn18', node_vec_dim=10)"
   ]
  },
  {
   "cell_type": "code",
   "execution_count": 11,
   "metadata": {},
   "outputs": [],
   "source": [
    "# ds_fb15 = Dataset(path=ds_path_fb15, ds_name='fb15', node_vec_dim=10)"
   ]
  },
  {
   "cell_type": "code",
   "execution_count": 12,
   "metadata": {},
   "outputs": [],
   "source": [
    "# MODIFY BELOW TO USE RIGHT DATASET\n",
    "ds = ds_wn18"
   ]
  },
  {
   "cell_type": "code",
   "execution_count": 13,
   "metadata": {},
   "outputs": [],
   "source": [
    "# DEBUG: convert dataset to a list\n",
    "# ds_l = list(ds.train)"
   ]
  },
  {
   "cell_type": "code",
   "execution_count": 14,
   "metadata": {},
   "outputs": [],
   "source": [
    "algebra = VectMultAlgebra(ds.entity_vec_dim)"
   ]
  },
  {
   "cell_type": "code",
   "execution_count": 15,
   "metadata": {},
   "outputs": [],
   "source": [
    "relation_model = CustomRelation(\n",
    "    nb_features=ds.entity_vec_dim,\n",
    "    nb_labels=len(ds.relation2id),\n",
    "    algebra=algebra\n",
    ")"
   ]
  },
  {
   "cell_type": "code",
   "execution_count": 16,
   "metadata": {},
   "outputs": [],
   "source": [
    "scoring_model = CustomScore(\n",
    "    nb_features=ds.entity_vec_dim,\n",
    "    nb_scores=len(ds.relation2id),\n",
    "    algebra=algebra\n",
    ")"
   ]
  },
  {
   "cell_type": "code",
   "execution_count": 17,
   "metadata": {},
   "outputs": [],
   "source": [
    "model = TrainableDecisionCatModel(\n",
    "    relation_model=relation_model,\n",
    "    label_universe=ds.relation_id2vec,\n",
    "    scoring_model=scoring_model,\n",
    "    algebra_model=algebra,\n",
    "    optimizer=torch.optim.Adam,\n",
    "    epsilon=DEFAULT_EPSILON\n",
    ")"
   ]
  },
  {
   "cell_type": "code",
   "execution_count": 18,
   "metadata": {},
   "outputs": [],
   "source": [
    "# DEBUG: Represent graph as dict of dicts or dict of lists\n",
    "# dod = to_dict_of_dicts(labels)\n",
    "# dod[10698]\n",
    "# dol = to_dict_of_lists(labels)\n",
    "# dol[10698]"
   ]
  },
  {
   "cell_type": "code",
   "execution_count": 19,
   "metadata": {},
   "outputs": [
    {
     "output_type": "execute_result",
     "data": {
      "text/plain": [
       "{0: tensor([1., 0., 0., 0., 0., 0., 0., 0., 0., 0., 0.]),\n",
       " 1: tensor([0., 1., 0., 0., 0., 0., 0., 0., 0., 0., 0.]),\n",
       " 2: tensor([0., 0., 1., 0., 0., 0., 0., 0., 0., 0., 0.]),\n",
       " 3: tensor([0., 0., 0., 1., 0., 0., 0., 0., 0., 0., 0.]),\n",
       " 4: tensor([0., 0., 0., 0., 1., 0., 0., 0., 0., 0., 0.]),\n",
       " 5: tensor([0., 0., 0., 0., 0., 1., 0., 0., 0., 0., 0.]),\n",
       " 6: tensor([0., 0., 0., 0., 0., 0., 1., 0., 0., 0., 0.]),\n",
       " 7: tensor([0., 0., 0., 0., 0., 0., 0., 1., 0., 0., 0.]),\n",
       " 8: tensor([0., 0., 0., 0., 0., 0., 0., 0., 1., 0., 0.]),\n",
       " 9: tensor([0., 0., 0., 0., 0., 0., 0., 0., 0., 1., 0.]),\n",
       " 10: tensor([0., 0., 0., 0., 0., 0., 0., 0., 0., 0., 1.])}"
      ]
     },
     "metadata": {},
     "execution_count": 19
    }
   ],
   "source": [
    "# DEBUG: check OHE relations encoding\n",
    "ds.relation_id2vec"
   ]
  },
  {
   "cell_type": "code",
   "execution_count": 20,
   "metadata": {},
   "outputs": [
    {
     "output_type": "execute_result",
     "data": {
      "text/plain": [
       "{'_instance_hypernym': 0,\n",
       " '_hypernym': 1,\n",
       " '_derivationally_related_form': 2,\n",
       " '_synset_domain_topic_of': 3,\n",
       " '_similar_to': 4,\n",
       " '_member_meronym': 5,\n",
       " '_has_part': 6,\n",
       " '_member_of_domain_usage': 7,\n",
       " '_verb_group': 8,\n",
       " '_also_see': 9,\n",
       " '_member_of_domain_region': 10}"
      ]
     },
     "metadata": {},
     "execution_count": 20
    }
   ],
   "source": [
    "# DEBUG: check relations to id conversion dict\n",
    "ds.relation2id"
   ]
  },
  {
   "cell_type": "code",
   "execution_count": 21,
   "metadata": {},
   "outputs": [],
   "source": [
    "# DEBUG NOTE: datatype comparaison\n",
    "# Dataset interable format [src:int, tgt:int, lbl: {id:int: vec:Tsor}]\n",
    "# CompositeArrow data format:  [[src: int, tgt: int], [label: int]]"
   ]
  },
  {
   "cell_type": "code",
   "execution_count": 22,
   "metadata": {},
   "outputs": [
    {
     "output_type": "stream",
     "name": "stderr",
     "text": [
      "/home/christophe/workspace/arreason/CategoryLearning/catlearn/data/dataset.py:112: ResourceWarning: unclosed file <_io.TextIOWrapper name='Datasets/wn18rr/text/train.txt' mode='r' encoding='UTF-8'>\n  return ((\nResourceWarning: Enable tracemalloc to get the object allocation traceback\n"
     ]
    }
   ],
   "source": [
    "graph_labels = DirectedGraph(ds.train)"
   ]
  },
  {
   "cell_type": "code",
   "execution_count": 23,
   "metadata": {},
   "outputs": [
    {
     "output_type": "stream",
     "name": "stderr",
     "text": [
      "/home/christophe/workspace/arreason/CategoryLearning/Python/lib/python3.8/site-packages/ipykernel/ipkernel.py:287: DeprecationWarning: `should_run_async` will not call `transform_cell` automatically in the future. Please pass the result to `transformed_cell` argument and any exception that happen during thetransform in `preprocessing_exc_tuple` in IPython 7.17 and above.\n  and should_run_async(code)\n"
     ]
    }
   ],
   "source": [
    "def graph_to_composite_arrow(graph: DirectedGraph):\n",
    "    nodes = [(src, dst) for src, dst, _ in graph.edges(data=True)]\n",
    "    edges = [list(rel.keys()) for _, _, rel in graph.edges(data=True)]\n",
    "    return nodes, edges"
   ]
  },
  {
   "cell_type": "code",
   "execution_count": 24,
   "metadata": {
    "tags": []
   },
   "outputs": [
    {
     "output_type": "stream",
     "name": "stderr",
     "text": [
      "<ipython-input-24-8d852144d3e6>:3: TqdmDeprecationWarning: Please use `tqdm.notebook.trange` instead of `tqdm.tnrange`\n  for i in tnrange(10, desc='1st loop: batches'):\n"
     ]
    },
    {
     "output_type": "display_data",
     "data": {
      "text/plain": "HBox(children=(HTML(value='1st loop: batches'), FloatProgress(value=0.0, max=10.0), HTML(value='')))",
      "application/vnd.jupyter.widget-view+json": {
       "version_major": 2,
       "version_minor": 0,
       "model_id": "b7e52bf436394da68656d8d565bcb00e"
      }
     },
     "metadata": {}
    },
    {
     "output_type": "stream",
     "name": "stderr",
     "text": [
      "/home/christophe/workspace/arreason/CategoryLearning/catlearn/graph_utils.py:632: UserWarning: \u001b[1;33msample_vertices_size 7 is odd and will be rounded to floor even number 6when with_edges=True\u001b[0m\n",
      "  warnings.warn(str_color('W', warning_str), UserWarning)\n",
      "\n"
     ]
    }
   ],
   "source": [
    "# NOTE: for large graphs, random_walk functions family can be used to sub-sample graph\n",
    "# while preserving its topology \n",
    "for i in tnrange(10, desc='1st loop: batches'):\n",
    "    arrows_graph = uniform_sample(graph=graph_labels, sample_vertices_size=7, rng=random.Random(), with_edges=True)\n",
    "    nodes, edges = graph_to_composite_arrow(arrows_graph)\n",
    "    if edges:\n",
    "        arrows = [CompositeArrow(nodes=node, arrows=edge) for node, edge in zip(nodes, edges)]\n",
    "    else:\n",
    "        arrows = [CompositeArrow(nodes=node) for node in nodes]\n",
    "    cache, matches = model.train(\n",
    "        data_points = ds.entity_id2vec,\n",
    "        relations = arrows,\n",
    "        # NOTE: Labels could be a couplete graph, a subgraph from random_walk or a sub-sub-graph used to create a batch\n",
    "        labels = arrows_graph,\n",
    "        step = True,\n",
    "        match_negatives=False\n",
    "    )\n",
    "    log_results(cache, matches)"
   ]
  },
  {
   "cell_type": "code",
   "execution_count": null,
   "metadata": {},
   "outputs": [],
   "source": []
  }
 ]
}