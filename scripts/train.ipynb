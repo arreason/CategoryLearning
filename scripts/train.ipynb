{
 "cells": [
  {
   "cell_type": "code",
   "execution_count": 65,
   "metadata": {
    "tags": []
   },
   "outputs": [
    {
     "output_type": "stream",
     "name": "stdout",
     "text": [
      "The autoreload extension is already loaded. To reload it, use:\n  %reload_ext autoreload\n"
     ]
    }
   ],
   "source": [
    "%matplotlib inline\n",
    "%load_ext autoreload\n",
    "%autoreload 2"
   ]
  },
  {
   "cell_type": "code",
   "execution_count": 73,
   "metadata": {},
   "outputs": [
    {
     "output_type": "execute_result",
     "data": {
      "text/plain": [
       "'/Users/igorgarbuz/Dev/catlearn'"
      ]
     },
     "metadata": {},
     "execution_count": 73
    }
   ],
   "source": [
    "# CHECK WORKIND DIR PATH\n",
    "import os\n",
    "# MODIFY SYSTEM PATH\n",
    "os.chdir('/Users/igorgarbuz/Dev/catlearn')\n",
    "os.getcwd()"
   ]
  },
  {
   "cell_type": "code",
   "execution_count": 74,
   "metadata": {},
   "outputs": [],
   "source": [
    "from typing import Callable, Iterable, Any\n",
    "import sys\n",
    "import torch\n",
    "import random\n",
    "import networkx as nx\n",
    "# import warnings\n",
    "# Needed to show warnings in all Jupyter distributions (e.g. VS Code Jupyter implementation)\n",
    "# warnings.simplefilter(action=\"default\")\n",
    "from tqdm import tnrange\n",
    "sys.path.append('../catlearn')\n",
    "from catlearn.data.dataset import Dataset\n",
    "from catlearn.tensor_utils import (Tsor, DEFAULT_EPSILON)\n",
    "\n",
    "from catlearn.graph_utils import (DirectedGraph,\n",
    "                                    uniform_sample,\n",
    "                                    random_walk_edge_sample,\n",
    "                                    random_walk_vertex_sample,\n",
    "                                    clean_selfloops,\n",
    "                                    augment_graph,\n",
    "                                    create_revers_rels)\n",
    "from catlearn.algebra_models import (Algebra, VectAlgebra, VectMultAlgebra)\n",
    "from catlearn.composition_graph import CompositeArrow\n",
    "from catlearn.categorical_model import (TrainableDecisionCatModel, RelationModel,\n",
    "                                        ScoringModel)"
   ]
  },
  {
   "source": [
    "For weights and biases integration, run in terminal:  \n",
    "```wandb login```\n",
    "On request to enter API key, pasthe the key from website.  \n",
    "Last valid key ```ca29a13bf2ac0110134723b00696d94b9a6ad032```  \n",
    "Check that you are logged as ```arreason-labs```"
   ],
   "cell_type": "markdown",
   "metadata": {}
  },
  {
   "cell_type": "code",
   "execution_count": 75,
   "metadata": {},
   "outputs": [],
   "source": [
    "from wandb_logger import log_results, save_params"
   ]
  },
  {
   "cell_type": "code",
   "execution_count": 76,
   "metadata": {},
   "outputs": [
    {
     "output_type": "execute_result",
     "data": {
      "text/plain": [
       "torch.float32"
      ]
     },
     "metadata": {},
     "execution_count": 76
    }
   ],
   "source": [
    "# Select default type: https://pytorch.org/docs/stable/tensors.html\n",
    "default_tensor = torch.FloatTensor\n",
    "# default_tensor = torch.cuda.FloatTensor\n",
    "torch.set_default_tensor_type(default_tensor)\n",
    "# Check default tensor datatype\n",
    "default_tensor.dtype"
   ]
  },
  {
   "cell_type": "code",
   "execution_count": 77,
   "metadata": {},
   "outputs": [
    {
     "output_type": "execute_result",
     "data": {
      "text/plain": [
       "'/Users/igorgarbuz/Dev/catlearn'"
      ]
     },
     "metadata": {},
     "execution_count": 77
    }
   ],
   "source": [
    "os.getcwd()"
   ]
  },
  {
   "cell_type": "code",
   "execution_count": 78,
   "metadata": {},
   "outputs": [],
   "source": [
    "# Specify dataset path\n",
    "ds_path_wn18 = './Datasets/wn18rr/text'\n",
    "ds_path_fb15 = './Datasets/fb15k-237'"
   ]
  },
  {
   "cell_type": "code",
   "execution_count": 79,
   "metadata": {},
   "outputs": [],
   "source": [
    "ds_wn18 = Dataset(path=ds_path_wn18, ds_name='wn18', node_vec_dim=10)"
   ]
  },
  {
   "cell_type": "code",
   "execution_count": 80,
   "metadata": {},
   "outputs": [],
   "source": [
    "# MODIFY BELOW TO USE RIGHT DATASET\n",
    "ds = ds_wn18"
   ]
  },
  {
   "source": [
    "## Create training graphg"
   ],
   "cell_type": "markdown",
   "metadata": {}
  },
  {
   "cell_type": "code",
   "execution_count": 81,
   "metadata": {},
   "outputs": [],
   "source": [
    "graph_labels = DirectedGraph(ds.train)"
   ]
  },
  {
   "source": [
    "## Clean graph"
   ],
   "cell_type": "markdown",
   "metadata": {}
  },
  {
   "cell_type": "code",
   "execution_count": 83,
   "metadata": {},
   "outputs": [
    {
     "output_type": "stream",
     "name": "stdout",
     "text": [
      "\nFollowing 7 selfloop edge(s) are found:\n[(30440, 30440), (24410, 24410), (18188, 18188), (24568, 24568), (10143, 10143), (9618, 9618), (25511, 25511)]\n7 selfloop edges are removed.\nFollowing 0 isolate(s) are found:\n[]\n0 isolates are removed.\n"
     ]
    }
   ],
   "source": [
    "clean_selfloops(graph_labels)"
   ]
  },
  {
   "source": [
    "# Print graphs stats"
   ],
   "cell_type": "markdown",
   "metadata": {}
  },
  {
   "cell_type": "code",
   "execution_count": 84,
   "metadata": {},
   "outputs": [
    {
     "output_type": "stream",
     "name": "stdout",
     "text": [
      "Name: \nType: DirectedGraph\nNumber of nodes: 40714\nNumber of edges: 86719\nAverage in degree:   2.1300\nAverage out degree:   2.1300\n"
     ]
    }
   ],
   "source": [
    "print(nx.info(graph_labels))"
   ]
  },
  {
   "source": [
    "# Augment graph with following symetrical relations"
   ],
   "cell_type": "markdown",
   "metadata": {}
  },
  {
   "cell_type": "code",
   "execution_count": 85,
   "metadata": {},
   "outputs": [],
   "source": [
    "relation_revers = {\n",
    "    '_hypernym': None,\n",
    "    '_derivationally_related_form': '_derivationally_related_form',\n",
    "    '_member_meronym': None,\n",
    "    '_has_part': None,\n",
    "    '_synset_domain_topic_of': None,\n",
    "    '_instance_hypernym' : None,\n",
    "    '_also_see': '_also_see',\n",
    "    '_verb_group': '_verb_group',\n",
    "    '_member_of_domain_usage': None,\n",
    "    '_member_of_domain_region': None,\n",
    "    '_similar_to': '_similar_to',\n",
    "}"
   ]
  },
  {
   "cell_type": "code",
   "execution_count": 86,
   "metadata": {},
   "outputs": [],
   "source": [
    "relation2id_augmented, relation_id2vec_augmented, revers_rels = create_revers_rels(relation_revers, ds.relation2id)"
   ]
  },
  {
   "cell_type": "code",
   "execution_count": 87,
   "metadata": {},
   "outputs": [],
   "source": [
    "augment_graph(graph_labels, revers_rels)"
   ]
  },
  {
   "cell_type": "code",
   "execution_count": 88,
   "metadata": {},
   "outputs": [
    {
     "output_type": "stream",
     "name": "stdout",
     "text": [
      "Name: \nType: DirectedGraph\nNumber of nodes: 40714\nNumber of edges: 89238\nAverage in degree:   2.1918\nAverage out degree:   2.1918\n"
     ]
    }
   ],
   "source": [
    "print(nx.info(graph_labels))"
   ]
  },
  {
   "source": [
    "# Define Relation model"
   ],
   "cell_type": "markdown",
   "metadata": {}
  },
  {
   "cell_type": "code",
   "execution_count": 89,
   "metadata": {},
   "outputs": [],
   "source": [
    "class CustomRelation(RelationModel):\n",
    "    \"\"\" \n",
    "    \"\"\"\n",
    "    def __init__(self, nb_features: int, nb_labels: int, algebra: Algebra) -> None:\n",
    "        self.linear = torch.nn.Linear(2 * nb_features + nb_labels, algebra.flatdim)\n",
    "\n",
    "    def named_parameters(self, recurse: bool = True) -> Iterable[Tsor]:\n",
    "        return self.linear.named_parameters(recurse=recurse)\n",
    "\n",
    "    def __call__(self, x: Tsor, y: Tsor, l: Tsor) -> Tsor:\n",
    "        \"\"\" Compute x R y \"\"\"\n",
    "        return self.linear(torch.cat((x, y, l), -1))"
   ]
  },
  {
   "source": [
    "# Define Score model"
   ],
   "cell_type": "markdown",
   "metadata": {}
  },
  {
   "cell_type": "code",
   "execution_count": 90,
   "metadata": {},
   "outputs": [],
   "source": [
    "class CustomScore(ScoringModel):\n",
    "    \"\"\" Must be defined. depends on algebra and \n",
    "    in the scope of definition of the project. \"\"\"\n",
    "    def __init__(\n",
    "            self,\n",
    "            nb_features: int,\n",
    "            nb_scores: int,\n",
    "            algebra: Algebra) -> None:\n",
    "        self.linear = torch.nn.Linear(\n",
    "            2 * nb_features + algebra.flatdim, nb_scores + 1)\n",
    "        self.softmax = torch.nn.Softmax(dim=-1)\n",
    "\n",
    "    def named_parameters(self, recurse: bool = True) -> Iterable[Tsor]:\n",
    "        return self.linear.named_parameters(recurse=recurse)\n",
    "\n",
    "    def __call__(self, src: Tsor, dst: Tsor, rel: Tsor) -> Tsor:\n",
    "        \"\"\" Compute S(src, dst, rel) \"\"\"\n",
    "        cat_input = torch.cat((src, dst, rel), -1)\n",
    "        return self.softmax(self.linear(cat_input))[..., :-1]"
   ]
  },
  {
   "source": [
    "# Create training models"
   ],
   "cell_type": "markdown",
   "metadata": {}
  },
  {
   "cell_type": "code",
   "execution_count": 91,
   "metadata": {},
   "outputs": [],
   "source": [
    "algebra = VectMultAlgebra(ds.entity_vec_dim)"
   ]
  },
  {
   "cell_type": "code",
   "execution_count": 92,
   "metadata": {},
   "outputs": [],
   "source": [
    "relation_model = CustomRelation(\n",
    "    nb_features=ds.entity_vec_dim,\n",
    "    nb_labels=len(ds.relation2id),\n",
    "    algebra=algebra\n",
    ")"
   ]
  },
  {
   "cell_type": "code",
   "execution_count": 93,
   "metadata": {},
   "outputs": [],
   "source": [
    "scoring_model = CustomScore(\n",
    "    nb_features=ds.entity_vec_dim,\n",
    "    nb_scores=len(ds.relation2id),\n",
    "    algebra=algebra\n",
    ")"
   ]
  },
  {
   "cell_type": "code",
   "execution_count": 101,
   "metadata": {},
   "outputs": [],
   "source": [
    "model = TrainableDecisionCatModel(\n",
    "    relation_model=relation_model,\n",
    "    label_universe=relation_id2vec_augmented,\n",
    "    scoring_model=scoring_model,\n",
    "    algebra_model=algebra,\n",
    "    optimizer=torch.optim.Adam,\n",
    "    epsilon=DEFAULT_EPSILON\n",
    ")"
   ]
  },
  {
   "cell_type": "code",
   "execution_count": 95,
   "metadata": {},
   "outputs": [],
   "source": [
    "# DEBUG NOTE: datatype comparaison\n",
    "# Dataset interable format [src:int, tgt:int, lbl: {id:int: vec:Tsor}]\n",
    "# CompositeArrow data format:  [[src: int, tgt: int], [label: int]]"
   ]
  },
  {
   "source": [
    "# Create training loop"
   ],
   "cell_type": "markdown",
   "metadata": {}
  },
  {
   "cell_type": "code",
   "execution_count": 102,
   "metadata": {},
   "outputs": [],
   "source": [
    "def graph_to_nodes_edges(graph: DirectedGraph):\n",
    "    nodes = [(src, dst) for src, dst in graph.edges(data=False)]\n",
    "    edges = [list(rel.keys()) for _, _, rel in graph.edges(data=True)]\n",
    "    return nodes, edges"
   ]
  },
  {
   "cell_type": "code",
   "execution_count": 103,
   "metadata": {
    "tags": []
   },
   "outputs": [
    {
     "output_type": "display_data",
     "data": {
      "text/plain": "HBox(children=(HTML(value='1st loop: batches'), FloatProgress(value=0.0, max=10.0), HTML(value='')))",
      "application/vnd.jupyter.widget-view+json": {
       "version_major": 2,
       "version_minor": 0,
       "model_id": "7cd68d0e150d4e91ab8b9434e4535028"
      }
     },
     "metadata": {}
    },
    {
     "output_type": "stream",
     "name": "stdout",
     "text": [
      "\n"
     ]
    }
   ],
   "source": [
    "# NOTE: for large graphs, random_walk functions family can be used to sub-sample graph\n",
    "# while preserving its topology \n",
    "for i in tnrange(10, desc='1st loop: batches'):\n",
    "    arrows_graph = uniform_sample(graph=graph_labels, sample_vertices_size=7, rng=random.Random(), with_edges=True)\n",
    "    nodes, edges = graph_to_nodes_edges(arrows_graph)\n",
    "    if edges:\n",
    "        arrows = [CompositeArrow(nodes=node, arrows=edge) for node, edge in zip(nodes, edges)]\n",
    "    else:\n",
    "        arrows = [CompositeArrow(nodes=node) for node in nodes]\n",
    "    cache, matches = model.train(\n",
    "        data_points = ds.entity_id2vec,\n",
    "        relations = arrows,\n",
    "        # NOTE: Labels could be a couplete graph, a subgraph from random_walk or a sub-sub-graph used to create a batch\n",
    "        labels = arrows_graph,\n",
    "        step = True,\n",
    "        match_negatives=False\n",
    "    )\n",
    "    # log_results(cache, matches)"
   ]
  },
  {
   "cell_type": "code",
   "execution_count": null,
   "metadata": {},
   "outputs": [],
   "source": [
    "save_params(model)"
   ]
  },
  {
   "cell_type": "code",
   "execution_count": null,
   "metadata": {},
   "outputs": [],
   "source": []
  }
 ],
 "metadata": {
  "kernelspec": {
   "display_name": "Python 3",
   "name": "python3"
  },
  "language_info": {
   "codemirror_mode": {
    "name": "ipython",
    "version": 3
   },
   "file_extension": ".py",
   "mimetype": "text/x-python",
   "name": "python",
   "nbconvert_exporter": "python",
   "pygments_lexer": "ipython3",
   "version": "3.8.5-final"
  }
 },
 "nbformat": 4,
 "nbformat_minor": 2
}