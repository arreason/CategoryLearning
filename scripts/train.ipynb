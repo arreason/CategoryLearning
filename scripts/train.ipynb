{
 "metadata": {
  "language_info": {
   "codemirror_mode": {
    "name": "ipython",
    "version": 3
   },
   "file_extension": ".py",
   "mimetype": "text/x-python",
   "name": "python",
   "nbconvert_exporter": "python",
   "pygments_lexer": "ipython3",
   "version": "3.8.5-final"
  },
  "orig_nbformat": 2,
  "kernelspec": {
   "name": "Python 3.8.5 64-bit ('env': venv)",
   "display_name": "Python 3.8.5 64-bit ('env': venv)",
   "metadata": {
    "interpreter": {
     "hash": "bd89833ee52dac59b847d610e1e9fac006b01cd9c3f089289c3c6ca72ab2ba88"
    }
   }
  }
 },
 "nbformat": 4,
 "nbformat_minor": 2,
 "cells": [
  {
   "cell_type": "code",
   "execution_count": null,
   "metadata": {
    "tags": []
   },
   "outputs": [],
   "source": [
    "%matplotlib inline\n",
    "%load_ext autoreload\n",
    "%autoreload 2"
   ]
  },
  {
   "cell_type": "code",
   "execution_count": null,
   "metadata": {},
   "outputs": [],
   "source": [
    "import os\n",
    "# MODIFY SYSTEM PATH\n",
    "os.chdir('/Users/igorgarbuz/Dev/catlearn')\n",
    "os.getcwd()"
   ]
  },
  {
   "cell_type": "code",
   "execution_count": null,
   "metadata": {},
   "outputs": [],
   "source": [
    "from typing import Callable, Iterable, Any\n",
    "import os\n",
    "import argparse\n",
    "import warnings\n",
    "import logging\n",
    "import sys\n",
    "import torch\n",
    "import random\n",
    "sys.path.append('../catlearn')\n",
    "from catlearn.data.dataset import Dataset\n",
    "from catlearn.tensor_utils import (Tsor, DEFAULT_EPSILON)\n",
    "from catlearn.graph_utils import (DirectedGraph, uniform_sample, random_walk_edge_sample,\n",
    "                                    random_walk_vertex_sample)\n",
    "from catlearn.algebra_models import (Algebra, VectAlgebra, VectMultAlgebra)\n",
    "from catlearn.composition_graph import CompositeArrow\n",
    "from catlearn.categorical_model import (TrainableDecisionCatModel, RelationModel,\n",
    "                                        ScoringModel)"
   ]
  },
  {
   "cell_type": "code",
   "execution_count": null,
   "metadata": {},
   "outputs": [],
   "source": [
    "# DEBUG: Tools to export networkx graph\n",
    "from networkx import to_dict_of_lists, to_dict_of_dicts"
   ]
  },
  {
   "cell_type": "code",
   "execution_count": null,
   "metadata": {},
   "outputs": [],
   "source": [
    "# Select default type: https://pytorch.org/docs/stable/tensors.html\n",
    "default_tensor = torch.FloatTensor\n",
    "# default_tensor = torch.cuda.FloatTensor\n",
    "torch.set_default_tensor_type(default_tensor)\n",
    "# Check default tensor datatype\n",
    "default_tensor.dtype"
   ]
  },
  {
   "cell_type": "code",
   "execution_count": null,
   "metadata": {},
   "outputs": [],
   "source": [
    "class CustomRelation(RelationModel):\n",
    "    \"\"\" Fake relations\n",
    "    two nodes and rel\n",
    "    \"\"\"\n",
    "    def __init__(self, nb_features: int, nb_labels: int, algebra: Algebra) -> None:\n",
    "        self.linear = torch.nn.Linear(2 * nb_features + nb_labels, algebra.flatdim)\n",
    "\n",
    "    @property\n",
    "    def parameters(self) -> Callable[[], Iterable[Any]]:\n",
    "        return self.linear.parameters\n",
    "\n",
    "    def __call__(self, x: Tsor, y: Tsor, l: Tsor) -> Tsor:\n",
    "        \"\"\" Compute x R y \"\"\"\n",
    "        return self.linear(torch.cat((x, y, l), -1))"
   ]
  },
  {
   "cell_type": "code",
   "execution_count": null,
   "metadata": {},
   "outputs": [],
   "source": [
    "class CustomScore(ScoringModel):\n",
    "    \"\"\" Must be defined. depends on algebra and \n",
    "    in the scope of definition of the project. \"\"\"\n",
    "    def __init__(\n",
    "            self,\n",
    "            nb_features: int,\n",
    "            nb_scores: int,\n",
    "            algebra: Algebra) -> None:\n",
    "        self.linear = torch.nn.Linear(\n",
    "            2 * nb_features + algebra.flatdim, nb_scores + 1)\n",
    "        self.softmax = torch.nn.Softmax(dim=-1)\n",
    "\n",
    "    @property\n",
    "    def parameters(self) -> Callable[[], Iterable[Any]]:\n",
    "        return self.linear.parameters\n",
    "\n",
    "    def __call__(self, src: Tsor, dst: Tsor, rel: Tsor) -> Tsor:\n",
    "        \"\"\" Compute S(src, dst, rel) \"\"\"\n",
    "        cat_input = torch.cat((src, dst, rel), -1)\n",
    "        return self.softmax(self.linear(cat_input))[..., :-1]"
   ]
  },
  {
   "cell_type": "code",
   "execution_count": 315,
   "metadata": {},
   "outputs": [],
   "source": [
    "# Specify dataset path\n",
    "ds_path_wn18 = '/Users/igorgarbuz/Dev/catlearn/datasets/wn18rr/text'\n",
    "ds_path_fb15 = '/Users/igorgarbuz/Dev/catlearn/datasets/fb15k-237'"
   ]
  },
  {
   "cell_type": "code",
   "execution_count": null,
   "metadata": {},
   "outputs": [],
   "source": [
    "ds_wn18 = Dataset(path=ds_path_wn18, ds_name='wn18', node_vec_dim=10)"
   ]
  },
  {
   "cell_type": "code",
   "execution_count": null,
   "metadata": {},
   "outputs": [],
   "source": [
    "# ds_fb15 = Dataset(path=ds_path_fb15, ds_name='fb15', node_vec_dim=10)"
   ]
  },
  {
   "cell_type": "code",
   "execution_count": null,
   "metadata": {},
   "outputs": [],
   "source": [
    "# MODIFY BELOW TO USE RIGHT DATASET\n",
    "ds = ds_wn18"
   ]
  },
  {
   "cell_type": "code",
   "execution_count": null,
   "metadata": {},
   "outputs": [],
   "source": [
    "# DEBUG: convert dataset to a list\n",
    "# ds_l = list(ds.train)"
   ]
  },
  {
   "cell_type": "code",
   "execution_count": null,
   "metadata": {},
   "outputs": [],
   "source": [
    "algebra = VectMultAlgebra(ds.entity_vec_dim)"
   ]
  },
  {
   "cell_type": "code",
   "execution_count": null,
   "metadata": {},
   "outputs": [],
   "source": [
    "relation_model = CustomRelation(\n",
    "    nb_features=ds.entity_vec_dim,\n",
    "    nb_labels=len(ds.relation2id),\n",
    "    algebra=algebra\n",
    ")"
   ]
  },
  {
   "cell_type": "code",
   "execution_count": null,
   "metadata": {},
   "outputs": [],
   "source": [
    "scoring_model = CustomScore(\n",
    "    nb_features=ds.entity_vec_dim,\n",
    "    nb_scores=len(ds.relation2id),\n",
    "    algebra=algebra\n",
    ")"
   ]
  },
  {
   "cell_type": "code",
   "execution_count": null,
   "metadata": {},
   "outputs": [],
   "source": [
    "model = TrainableDecisionCatModel(\n",
    "    relation_model=relation_model,\n",
    "    label_universe=ds.relation_id2vec,\n",
    "    scoring_model=scoring_model,\n",
    "    algebra_model=algebra,\n",
    "    optimizer=torch.optim.Adam,\n",
    "    epsilon=DEFAULT_EPSILON\n",
    ")"
   ]
  },
  {
   "cell_type": "code",
   "execution_count": null,
   "metadata": {},
   "outputs": [],
   "source": [
    "# DEBUG: Represent graph as dict of dicts or dict of lists\n",
    "# dod = to_dict_of_dicts(labels)\n",
    "# dod[10698]\n",
    "# dol = to_dict_of_lists(labels)\n",
    "# dol[10698]"
   ]
  },
  {
   "cell_type": "code",
   "execution_count": 314,
   "metadata": {},
   "outputs": [
    {
     "output_type": "execute_result",
     "data": {
      "text/plain": [
       "{0: tensor([1., 0., 0., 0., 0., 0., 0., 0., 0., 0., 0.]),\n",
       " 1: tensor([0., 1., 0., 0., 0., 0., 0., 0., 0., 0., 0.]),\n",
       " 2: tensor([0., 0., 1., 0., 0., 0., 0., 0., 0., 0., 0.]),\n",
       " 3: tensor([0., 0., 0., 1., 0., 0., 0., 0., 0., 0., 0.]),\n",
       " 4: tensor([0., 0., 0., 0., 1., 0., 0., 0., 0., 0., 0.]),\n",
       " 5: tensor([0., 0., 0., 0., 0., 1., 0., 0., 0., 0., 0.]),\n",
       " 6: tensor([0., 0., 0., 0., 0., 0., 1., 0., 0., 0., 0.]),\n",
       " 7: tensor([0., 0., 0., 0., 0., 0., 0., 1., 0., 0., 0.]),\n",
       " 8: tensor([0., 0., 0., 0., 0., 0., 0., 0., 1., 0., 0.]),\n",
       " 9: tensor([0., 0., 0., 0., 0., 0., 0., 0., 0., 1., 0.]),\n",
       " 10: tensor([0., 0., 0., 0., 0., 0., 0., 0., 0., 0., 1.])}"
      ]
     },
     "metadata": {},
     "execution_count": 314
    }
   ],
   "source": [
    "# DEBUG: check OHE relations encoding\n",
    "ds.relation_id2vec"
   ]
  },
  {
   "cell_type": "code",
   "execution_count": 313,
   "metadata": {},
   "outputs": [
    {
     "output_type": "execute_result",
     "data": {
      "text/plain": [
       "{'_instance_hypernym': 0,\n",
       " '_hypernym': 1,\n",
       " '_derivationally_related_form': 2,\n",
       " '_synset_domain_topic_of': 3,\n",
       " '_similar_to': 4,\n",
       " '_member_meronym': 5,\n",
       " '_has_part': 6,\n",
       " '_member_of_domain_usage': 7,\n",
       " '_verb_group': 8,\n",
       " '_also_see': 9,\n",
       " '_member_of_domain_region': 10}"
      ]
     },
     "metadata": {},
     "execution_count": 313
    }
   ],
   "source": [
    "# DEBUG: check relations to id conversion dict\n",
    "ds.relation2id"
   ]
  },
  {
   "cell_type": "code",
   "execution_count": null,
   "metadata": {},
   "outputs": [],
   "source": [
    "# DEBUG NOTE: datatype comparaison\n",
    "# Dataset interable format [src:int, tgt:int, lbl: {id:int: vec:Tsor}]\n",
    "# CompositeArrow data format:  [[src: int, tgt: int], [label: int]]"
   ]
  },
  {
   "cell_type": "code",
   "execution_count": null,
   "metadata": {},
   "outputs": [],
   "source": [
    "graph_labels = DirectedGraph(ds.valid)"
   ]
  },
  {
   "cell_type": "code",
   "execution_count": 312,
   "metadata": {},
   "outputs": [],
   "source": [
    "# DEBUG: Small graph for debug purposes\n",
    "# debug_graph = DirectedGraph([(1,2,{11:[0,0,1]}),\n",
    "#                             (2,3,{22:[0,1,0]}),\n",
    "#                             (1,3,{33:[1,0,0]}),\n",
    "#                         ])"
   ]
  },
  {
   "cell_type": "code",
   "execution_count": null,
   "metadata": {},
   "outputs": [],
   "source": [
    "# Convert graph to 1st order CompositeArrow structure\n",
    "def graph_to_composite_arrow(graph: DirectedGraph):\n",
    "    nodes = []\n",
    "    edges = []\n",
    "    for src in graph:\n",
    "        for dst in graph[src].keys():\n",
    "            nodes += [[src, dst]]\n",
    "            edges += [list(graph[src][dst].keys())]\n",
    "        if not graph[src].keys():\n",
    "            nodes += [[src]]\n",
    "    return nodes, edges"
   ]
  },
  {
   "cell_type": "code",
   "execution_count": null,
   "metadata": {},
   "outputs": [],
   "source": [
    "for i in range(2):\n",
    "    # prune and create sub-graph of arrows\n",
    "    # take sub-graph (batch)\n",
    "    # arrows_graph = uniform_sample(graph=graph_labels, sample_vertices_size=10, rng=random.Random())\n",
    "    arrows_graph = random_walk_vertex_sample(graph=graph_labels, rng=random.Random(), n_iter=100)\n",
    "    nodes, edges = graph_to_composite_arrow(arrows_graph)\n",
    "    if edges:\n",
    "        arrows = [CompositeArrow(nodes=node, arrows=edge) for node, edge in zip(nodes, edges)]\n",
    "    else:\n",
    "        print('No edges')\n",
    "        arrows = [CompositeArrow(nodes=node) for node in nodes]\n",
    "    _cache, _matches = model.train(\n",
    "        data_points = ds.entity_id2vec,\n",
    "        relations = arrows,\n",
    "        # NOTE: Not clear if labels is a sub-graph or a complete graph\n",
    "        labels = graph_labels,\n",
    "        step = True,\n",
    "        match_negatives=False\n",
    "    )"
   ]
  }
 ]
}