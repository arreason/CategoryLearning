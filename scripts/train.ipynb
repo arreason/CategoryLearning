{
 "cells": [
  {
   "cell_type": "markdown",
   "metadata": {
    "id": "XUIdHOuHhyij"
   },
   "source": [
    "# 👩‍🔬 Colab specific header"
   ]
  },
  {
   "cell_type": "code",
   "execution_count": null,
   "metadata": {},
   "outputs": [],
   "source": [
    "# MOUNT GDRIVE TO COLAB\n",
    "IN_COLAB = 'google.colab' in str(get_ipython())\n",
    "if IN_COLAB:\n",
    "  from google.colab import drive\n",
    "  drive.mount('/content/drive')"
   ]
  },
  {
   "cell_type": "code",
   "execution_count": null,
   "metadata": {
    "id": "oBdc0ccAY7Ui"
   },
   "outputs": [],
   "source": [
    "if IN_COLAB:\n",
    "  from IPython.display import JSON\n",
    "  from google.colab import output\n",
    "  from subprocess import getoutput\n",
    "  import os\n",
    "  \n",
    "  def shell(command):\n",
    "    if command.startswith('cd'):\n",
    "      path = command.strip().split(maxsplit=1)[1]\n",
    "      os.chdir(path)\n",
    "      return JSON([''])\n",
    "    return JSON([getoutput(command)])\n",
    "  output.register_callback('shell', shell)"
   ]
  },
  {
   "cell_type": "code",
   "execution_count": null,
   "metadata": {
    "cellView": "form",
    "id": "tc8tY74IY8sA"
   },
   "outputs": [],
   "source": [
    "## UNCOMMENT BELOW TO RUN COLAB SHELL\n",
    "# %%html\n",
    "# <div id=term_demo></div>\n",
    "# <script src=\"https://code.jquery.com/jquery-latest.js\"></script>\n",
    "# <script src=\"https://cdn.jsdelivr.net/npm/jquery.terminal/js/jquery.terminal.min.js\"></script>\n",
    "# <link href=\"https://cdn.jsdelivr.net/npm/jquery.terminal/css/jquery.terminal.min.css\" rel=\"stylesheet\"/>\n",
    "# <script>\n",
    "#   $('#term_demo').terminal(async function(command) {\n",
    "#       if (command !== '') {\n",
    "#           try {\n",
    "#               let res = await google.colab.kernel.invokeFunction('shell', [command])\n",
    "#               let out = res.data['application/json'][0]\n",
    "#               this.echo(new String(out))\n",
    "#           } catch(e) {\n",
    "#               this.error(new String(e));\n",
    "#           }\n",
    "#       } else {\n",
    "#           this.echo('');\n",
    "#       }\n",
    "#   }, {\n",
    "#       greetings: 'Welcome to Colab Shell',\n",
    "#       name: 'colab_demo',\n",
    "#       height: 250,\n",
    "#       prompt: 'colab > '\n",
    "#   });"
   ]
  },
  {
   "cell_type": "markdown",
   "metadata": {
    "id": "-iy0eKtCh-lK"
   },
   "source": [
    "# 🏃‍♂️ For all Jupyter-like environments"
   ]
  },
  {
   "cell_type": "code",
   "execution_count": null,
   "metadata": {
    "id": "ml0Cehwnbtfk"
   },
   "outputs": [],
   "source": [
    "# UNCOMENT REQUIREMENTS TO BE INSTALLED\n",
    "# from IPython.display import clear_output\n",
    "# !pip install -r requirements_colab.txt\n",
    "# !pip install -r requirements.txt\n",
    "# clear_output(wait=False)"
   ]
  },
  {
   "cell_type": "code",
   "execution_count": null,
   "metadata": {
    "id": "P8ic_dvAYmGe",
    "tags": []
   },
   "outputs": [],
   "source": [
    "%matplotlib inline\n",
    "%load_ext autoreload\n",
    "%autoreload 2\n",
    "%config IPCompleter.greedy=True"
   ]
  },
  {
   "cell_type": "code",
   "execution_count": null,
   "metadata": {
    "id": "PzRmhaqyYmGe"
   },
   "outputs": [],
   "source": [
    "# Jupyter is expected to be run from git repository root directory.\n",
    "# By default CategoryLearning is the directory name. Modify path in case of an error.\n",
    "# It's is recommended to use an absolute path in lib_path\n",
    "import os\n",
    "from pathlib import Path\n",
    "lib_path = Path('./')\n",
    "lib_path = lib_path.resolve()\n",
    "print(f'Current absolute path to Git root directory: {lib_path}')\n",
    "assert 'catlearn' in os.listdir(lib_path), 'It seems notebook is run not from the root directory. Modify lib_path.'"
   ]
  },
  {
   "cell_type": "code",
   "execution_count": null,
   "metadata": {},
   "outputs": [],
   "source": [
    "# Modify notebook environment path in case it was updated in the cell above\n",
    "os.chdir(lib_path)"
   ]
  },
  {
   "cell_type": "code",
   "execution_count": null,
   "metadata": {
    "id": "LcWQ1173YmGe"
   },
   "outputs": [],
   "source": [
    "from typing import Callable, Iterable, Any, Union\n",
    "import sys\n",
    "import torch\n",
    "import random\n",
    "import numpy as np\n",
    "import networkx as nx\n",
    "from datetime import datetime\n",
    "import collections\n",
    "from tqdm import (trange, tqdm)\n",
    "from matplotlib import pyplot as plt\n",
    "from data.dataset import Dataset\n",
    "from catlearn.tensor_utils import (Tsor, DEFAULT_EPSILON)\n",
    "from catlearn.graph_utils import (DirectedGraph,\n",
    "                                    uniform_sample,\n",
    "                                    random_walk_edge_sample,\n",
    "                                    random_walk_vertex_sample,\n",
    "                                    n_hop_sample,\n",
    "                                    clean_selfloops,\n",
    "                                    augment_graph,\n",
    "                                    create_revers_rels)\n",
    "from catlearn.algebra_models import (Algebra, VectAlgebra, VectMultAlgebra)\n",
    "from catlearn.composition_graph import CompositeArrow\n",
    "from catlearn.categorical_model import (TrainableDecisionCatModel, RelationModel,\n",
    "                                        ScoringModel)"
   ]
  },
  {
   "cell_type": "code",
   "execution_count": null,
   "metadata": {
    "id": "UkNPbx2MYmGe"
   },
   "outputs": [],
   "source": [
    "# > VS CODE SPECIFIC <\n",
    "# Uncoment if run in VS Code embeded notebook\n",
    "# import warnings\n",
    "# Needed to show warnings in VS Code integrade jupyter\n",
    "# warnings.simplefilter(action=\"default\")"
   ]
  },
  {
   "cell_type": "code",
   "execution_count": null,
   "metadata": {
    "id": "z6ZseXVHYmGe"
   },
   "outputs": [],
   "source": [
    "# Enable reproducibility\n",
    "# https://pytorch.org/docs/stable/notes/randomness.html\n",
    "np.random.seed(42)\n",
    "torch.manual_seed(42)"
   ]
  },
  {
   "cell_type": "code",
   "execution_count": null,
   "metadata": {
    "id": "F4WkVjjoYmGe"
   },
   "outputs": [],
   "source": [
    "# CHECK GPU (ONLY ON MACHINES WITH NVIDIA GPU)\n",
    "# !nvidia-smi\n",
    "# print(torch.cuda.device(0))\n",
    "# print(torch.cuda.device_count())\n",
    "# print(torch.cuda.get_device_name(0))\n",
    "# print(torch.cuda.is_available())\n",
    "# CHECK KERNEL PYTHON VERSION\n",
    "# print(sys.version)"
   ]
  },
  {
   "cell_type": "markdown",
   "metadata": {
    "id": "WhdUNV6oYmGe"
   },
   "source": [
    "For weights and biases integration, run in terminal:  \n",
    "```wandb login```\n",
    "On request to enter API key, pasthe the key from website.  \n",
    "Last valid key ```ca29a13bf2ac0110134723b00696d94b9a6ad032```  \n",
    "Check that you are logged as ```arreason-labs```"
   ]
  },
  {
   "cell_type": "code",
   "execution_count": null,
   "metadata": {},
   "outputs": [],
   "source": [
    "from wandb_logger import log_results, save_params, save_file"
   ]
  },
  {
   "cell_type": "markdown",
   "metadata": {
    "id": "yYwYKHObYmGe"
   },
   "source": [
    "### SET BELOW ```default_tensor = torch.cuda.FloatTensor``` FOR GPU\n"
   ]
  },
  {
   "cell_type": "code",
   "execution_count": null,
   "metadata": {
    "id": "Mj0bBXCZYmGf"
   },
   "outputs": [],
   "source": [
    "# Specify dataset path\n",
    "# ds_path_wn18 = './Datasets/wn18rr/text'\n",
    "ds_path_wn18 = lib_path/'Datasets/wn18rr/text'\n",
    "# ds_path_fb15 = './Datasets/fb15k-237'"
   ]
  },
  {
   "cell_type": "code",
   "execution_count": null,
   "metadata": {
    "id": "VEsnfGQvYmGf"
   },
   "outputs": [],
   "source": [
    "ds_wn18 = Dataset(path=ds_path_wn18, ds_name='wn18', node_vec_dim=10)"
   ]
  },
  {
   "cell_type": "code",
   "execution_count": null,
   "metadata": {
    "id": "UmofLLX9YmGf"
   },
   "outputs": [],
   "source": [
    "# MODIFY BELOW TO USE RIGHT DATASET\n",
    "ds = ds_wn18"
   ]
  },
  {
   "cell_type": "markdown",
   "metadata": {
    "id": "s9655-MiYmGf"
   },
   "source": [
    "# Check dataset has multiconnections"
   ]
  },
  {
   "cell_type": "code",
   "execution_count": null,
   "metadata": {
    "id": "9EszAFhJYmGf"
   },
   "outputs": [],
   "source": [
    "# ds_wn18.load()\n",
    "# ds_l = list(ds_wn18.train)\n",
    "# ds_l_edges = [(tpl[0], tpl[1]) for tpl in ds_l]\n",
    "# cnt_edges = collections.Counter(ds_l_edges)\n",
    "# cnt_edges = sorted(cnt_edges.items(), key=lambda item: item[1], reverse=True)\n",
    "# cnt_edges_multi = [tpl for tpl in cnt_edges if tpl[1] > 1]\n",
    "# ds.train = ds_l\n",
    "# print(f'Edges with 2 relations: {len(cnt_edges_multi)}')\n",
    "# print(f'Max number of multirelations: {max([cnt for edge, cnt in cnt_edges_multi])}')"
   ]
  },
  {
   "cell_type": "markdown",
   "metadata": {
    "id": "NEo4voNRYmGf"
   },
   "source": [
    "## Create training / validation graphs\n"
   ]
  },
  {
   "cell_type": "code",
   "execution_count": null,
   "metadata": {
    "id": "e-qESk-LYmGf"
   },
   "outputs": [],
   "source": [
    "graph_train = DirectedGraph(ds.train)"
   ]
  },
  {
   "cell_type": "code",
   "execution_count": null,
   "metadata": {},
   "outputs": [],
   "source": [
    "graph_valid = DirectedGraph(ds.valid)"
   ]
  },
  {
   "cell_type": "markdown",
   "metadata": {
    "id": "eXSHLmZCYmGf"
   },
   "source": [
    "## Clean graph"
   ]
  },
  {
   "cell_type": "code",
   "execution_count": null,
   "metadata": {
    "id": "Qq6xZHvMYmGf"
   },
   "outputs": [],
   "source": [
    "clean_selfloops(graph_train)"
   ]
  },
  {
   "cell_type": "code",
   "execution_count": null,
   "metadata": {
    "id": "dot8VIrJYmGf"
   },
   "outputs": [],
   "source": [
    "print(nx.info(graph_train))"
   ]
  },
  {
   "cell_type": "markdown",
   "metadata": {
    "id": "TgvQLnSYYmGf"
   },
   "source": [
    "# Augment graph"
   ]
  },
  {
   "cell_type": "code",
   "execution_count": null,
   "metadata": {
    "id": "y-uGVjblYmGf",
    "jupyter": {
     "source_hidden": true
    }
   },
   "outputs": [],
   "source": [
    "relation_revers = {\n",
    "    '_hypernym': None,\n",
    "    '_derivationally_related_form': '_derivationally_related_form',\n",
    "    '_member_meronym': None,\n",
    "    '_has_part': None,\n",
    "    '_synset_domain_topic_of': None,\n",
    "    '_instance_hypernym' : None,\n",
    "    '_also_see': '_also_see',\n",
    "    '_verb_group': '_verb_group',\n",
    "    '_member_of_domain_usage': None,\n",
    "    '_member_of_domain_region': None,\n",
    "    '_similar_to': '_similar_to',\n",
    "}"
   ]
  },
  {
   "cell_type": "code",
   "execution_count": null,
   "metadata": {},
   "outputs": [],
   "source": [
    "relation_revers_full = {\n",
    "    '_hypernym': '_hypernym_rev',\n",
    "    '_derivationally_related_form': '_derivationally_related_form',\n",
    "    '_member_meronym': '_member_meronym_rev',\n",
    "    '_has_part': '_has_part_rev',\n",
    "    '_synset_domain_topic_of': '_synset_domain_topic_of_rev',\n",
    "    '_instance_hypernym' : '_instance_hypernym_rev',\n",
    "    '_also_see': '_also_see',\n",
    "    '_verb_group': '_verb_group',\n",
    "    '_member_of_domain_usage': '_member_of_domain_usage_rev',\n",
    "    '_member_of_domain_region': '_member_of_domain_region_rev',\n",
    "    '_similar_to': '_similar_to',\n",
    "}"
   ]
  },
  {
   "cell_type": "code",
   "execution_count": null,
   "metadata": {},
   "outputs": [],
   "source": [
    "relation_revers = relation_revers_full"
   ]
  },
  {
   "cell_type": "code",
   "execution_count": null,
   "metadata": {
    "id": "HhvSW_THYmGf"
   },
   "outputs": [],
   "source": [
    "# relation2id_augmented, relation_id2vec_augmented, revers_rels = create_revers_rels(relation_revers, ds.relation2id)\n",
    "relation2id_augmented, relation_id2vec_augmented, revers_rels = create_revers_rels(relation_revers, ds.relation2id)"
   ]
  },
  {
   "cell_type": "code",
   "execution_count": null,
   "metadata": {
    "id": "PNSkLE4vYmGf"
   },
   "outputs": [],
   "source": [
    "augment_graph(graph_train, revers_rels)"
   ]
  },
  {
   "cell_type": "code",
   "execution_count": null,
   "metadata": {},
   "outputs": [],
   "source": [
    "# if relation_revers_full is used, check there is a reverse edge for each edge\n",
    "# edges_without_revers = [(u, v) for (u, v) in graph_train.edges(data=False) if not graph_train.has_edge(v, u)]\n",
    "# assert edges_without_revers == []"
   ]
  },
  {
   "cell_type": "markdown",
   "metadata": {
    "id": "Rrc_h5uZYmGf"
   },
   "source": [
    "# Print graphs stats"
   ]
  },
  {
   "cell_type": "code",
   "execution_count": null,
   "metadata": {
    "id": "ixnd2WBlYmGf"
   },
   "outputs": [],
   "source": [
    "print(nx.info(graph_train))"
   ]
  },
  {
   "cell_type": "markdown",
   "metadata": {
    "id": "N5GtD9mkYmGf"
   },
   "source": [
    "# Define Relation model"
   ]
  },
  {
   "cell_type": "code",
   "execution_count": null,
   "metadata": {
    "id": "nQVOYz6CYmGf"
   },
   "outputs": [],
   "source": [
    "class CustomRelation(RelationModel):\n",
    "    \"\"\" \n",
    "    \"\"\"\n",
    "    def __init__(self, nb_features: int, nb_labels: int, algebra: Algebra) -> None:\n",
    "        self.linear = torch.nn.Linear(2 * nb_features + nb_labels, algebra.flatdim)\n",
    "\n",
    "    def named_parameters(self, recurse: bool = True) -> Iterable[Tsor]:\n",
    "        return self.linear.named_parameters(recurse=recurse)\n",
    "\n",
    "    def __call__(self, x: Tsor, y: Tsor, l: Tsor) -> Tsor:\n",
    "        \"\"\" Compute x R y \"\"\"\n",
    "        return self.linear(torch.cat((x, y, l), -1))"
   ]
  },
  {
   "cell_type": "markdown",
   "metadata": {
    "id": "S63nOEusYmGf"
   },
   "source": [
    "# Define Score model"
   ]
  },
  {
   "cell_type": "code",
   "execution_count": null,
   "metadata": {
    "id": "uLpE5ulZYmGf",
    "jupyter": {
     "source_hidden": true
    }
   },
   "outputs": [],
   "source": [
    "class CustomScore(ScoringModel):\n",
    "    \"\"\" Must be defined. depends on algebra and \n",
    "    in the scope of definition of the project. \"\"\"\n",
    "    def __init__(\n",
    "            self,\n",
    "            nb_features: int,\n",
    "            nb_scores: int,\n",
    "            algebra: Algebra) -> None:\n",
    "        self.linear = torch.nn.Linear(\n",
    "            2 * nb_features + algebra.flatdim, nb_scores + 1)\n",
    "        self.softmax = torch.nn.Softmax(dim=-1)\n",
    "\n",
    "    def named_parameters(self, recurse: bool = True) -> Iterable[Tsor]:\n",
    "        return self.linear.named_parameters(recurse=recurse)\n",
    "\n",
    "    def __call__(self, src: Tsor, dst: Tsor, rel: Tsor) -> Tsor:\n",
    "        \"\"\" Compute S(src, dst, rel) \"\"\"\n",
    "        cat_input = torch.cat((src, dst, rel), -1)\n",
    "        return self.softmax(self.linear(cat_input))[..., :-1]"
   ]
  },
  {
   "cell_type": "markdown",
   "metadata": {
    "id": "_r6Vkp2nYmGf"
   },
   "source": [
    "# Create training models"
   ]
  },
  {
   "cell_type": "code",
   "execution_count": null,
   "metadata": {
    "id": "jBSJgg_wYmGf"
   },
   "outputs": [],
   "source": [
    "algebra = VectMultAlgebra(ds.entity_vec_dim)"
   ]
  },
  {
   "cell_type": "code",
   "execution_count": null,
   "metadata": {
    "id": "3iuOZCkWYmGf"
   },
   "outputs": [],
   "source": [
    "relation_model = CustomRelation(\n",
    "    nb_features=ds.entity_vec_dim,\n",
    "    nb_labels=len(relation2id_augmented),\n",
    "    algebra=algebra\n",
    ")"
   ]
  },
  {
   "cell_type": "code",
   "execution_count": null,
   "metadata": {
    "id": "b-QyCOToYmGf"
   },
   "outputs": [],
   "source": [
    "scoring_model = CustomScore(\n",
    "    nb_features=ds.entity_vec_dim,\n",
    "    nb_scores=len(relation2id_augmented),\n",
    "    algebra=algebra\n",
    ")"
   ]
  },
  {
   "cell_type": "code",
   "execution_count": null,
   "metadata": {
    "id": "6GtT1kjaYmGf"
   },
   "outputs": [],
   "source": [
    "model = TrainableDecisionCatModel(\n",
    "    relation_model=relation_model,\n",
    "    label_universe=relation_id2vec_augmented,\n",
    "    scoring_model=scoring_model,\n",
    "    algebra_model=algebra,\n",
    "    optimizer=torch.optim.Adam,\n",
    "    epsilon=DEFAULT_EPSILON\n",
    ")"
   ]
  },
  {
   "cell_type": "code",
   "execution_count": null,
   "metadata": {
    "id": "cv6cAXFhYmGf"
   },
   "outputs": [],
   "source": [
    "# DEBUG NOTE: datatype comparaison\n",
    "# Dataset interable format [src:int, tgt:int, lbl: {id:int: None}]\n",
    "# CompositeArrow data format:  [[src: int, tgt: int], [label: int]]"
   ]
  },
  {
   "cell_type": "markdown",
   "metadata": {
    "id": "u_FxWz2SYmGf"
   },
   "source": [
    "# Create training loop"
   ]
  },
  {
   "cell_type": "code",
   "execution_count": null,
   "metadata": {
    "id": "uSTtw7_yYmGf"
   },
   "outputs": [],
   "source": [
    "def graph_to_nodes_edges(graph: DirectedGraph):\n",
    "    nodes = ((src, dst) for src, dst in graph.edges(data=False))\n",
    "    edges = (list(rel.keys()) for _, _, rel in graph.edges(data=True))\n",
    "    return nodes, edges"
   ]
  },
  {
   "cell_type": "code",
   "execution_count": null,
   "metadata": {
    "id": "fK9P4dExYmGf"
   },
   "outputs": [],
   "source": [
    "def nodes_edges_to_arrows(nodes, edges):\n",
    "    return [CompositeArrow(nodes=node_pair, arrows=[edge]) for node_pair, edges in zip(nodes, edges) for edge in edges]"
   ]
  },
  {
   "cell_type": "code",
   "execution_count": null,
   "metadata": {
    "id": "DJD8odO4YmGf"
   },
   "outputs": [],
   "source": [
    "def plot_subgraphs(subgraph, batch_n, plot_nth=5, graph_info=True):\n",
    "    \"\"\"Plot each n'th subgraph for debug\"\"\"\n",
    "    if not batch_n % plot_nth:\n",
    "        nx.draw_networkx(subgraph)\n",
    "        plt.show()\n",
    "        if graph_info: print(nx.info(subgraph))"
   ]
  },
  {
   "cell_type": "code",
   "execution_count": null,
   "metadata": {},
   "outputs": [],
   "source": [
    "def init_run_dir():\n",
    "    train_folder = lib_path/'log_runs'\n",
    "    print(f'\\nModels are saved in: {train_folder}', flush=True)\n",
    "    if not os.path.isdir(train_folder):\n",
    "        os.mkdir(train_folder)\n",
    "    train_run_dir = train_folder/datetime.now().strftime('%Y-%m-%d_%H-%M-%S')\n",
    "    os.mkdir(train_run_dir)\n",
    "    return train_run_dir"
   ]
  },
  {
   "cell_type": "code",
   "execution_count": null,
   "metadata": {},
   "outputs": [],
   "source": [
    "def save_model(model: TrainableDecisionCatModel,\n",
    "                epoch: int,\n",
    "                run_path: Path,\n",
    "                save_each_nth: int = None,\n",
    "                specific_epochs: list = None,\n",
    "                wandb_upload: bool = True) -> Union[None, Path]:\n",
    "    \"\"\"Saves model to a file. Optionaly logs to wandb.\"\"\"\n",
    "    if save_each_nth and specific_epochs:\n",
    "        print('Either save_each_nth OR specific_epochs must be provided. Not both.')\n",
    "        return None\n",
    "    # epochs enumeration starts from 1 in logging\n",
    "    epoch += 1\n",
    "    if isinstance(save_each_nth, int) and epoch % save_each_nth:\n",
    "        return None\n",
    "    elif isinstance(specific_epochs, list) and not epoch in specific_epochs:\n",
    "        return None\n",
    "    model_path = run_path/f'model_epoch_{epoch}.pth'\n",
    "    torch.save(dict(model.named_parameters()), model_path)\n",
    "    if wandb_upload:\n",
    "        save_file(model_path)\n",
    "    return model_path"
   ]
  },
  {
   "cell_type": "markdown",
   "metadata": {},
   "source": [
    "**Specification for sampler:**  \n",
    "  \n",
    "1. Control over number of nodes (time complexity).  \n",
    "Must be fixed.  \n",
    "Sampler must control number of nodes to be sampled to fullfill time complexity.  \n",
    "Max number of edges for N nodes is:\n",
    "- Directed graph: (N^2 - N) or N(N-1)\n",
    "- Undirected graph: (N^2-N)/2\n",
    "Computation complexity at training/inference (no composition) is:\n",
    "(N^2 - N) -- compute relation for each pair of nodes\n",
    "\n",
    "2. Control over number of edges:\n",
    "Specified average (with tollerance).   \n",
    "N_nodes/N_edges -- batch entropy / efficiency of learning.  \n",
    "  \n",
    "3. Control over degree of connectedness.\n",
    "Specified min and N of mins.  \n",
    "Min, max, average degree of connectedness -- batch entropy for links composition.  \n",
    "  \n",
    "4. Should not return not-connected nodes\n"
   ]
  },
  {
   "cell_type": "code",
   "execution_count": null,
   "metadata": {},
   "outputs": [],
   "source": [
    "def epoque_train(epoch: int, run_path: Path):\n",
    "    batches = 2\n",
    "    print_each_nth = 5\n",
    "    for i in trange(batches, desc=f'Batch train'):\n",
    "        # sampled_subgraph = uniform_sample(graph=graph_train, sample_vertices_size=20, rng=random.Random(),    with_edges=True)\n",
    "        sampled_subgraph = random_walk_vertex_sample(graph=graph_train, rng=random.Random(), n_iter=10, n_seeds=1,  use_opposite=False)\n",
    "        plot_subgraphs(sampled_subgraph, batch_n=i, plot_nth=1, graph_info=False)\n",
    "        nodes, edges = graph_to_nodes_edges(sampled_subgraph)\n",
    "        arrows = nodes_edges_to_arrows(nodes, edges)\n",
    "        # NOTE: returned cache contains the same information each time\n",
    "        cache, matches = model.train(\n",
    "            data_points = ds.entity_id2vec,\n",
    "            relations = arrows,\n",
    "            # NOTE: Labels could be a couplete graph, a subgraph from random_walk or a sub-sub-graph used to create a batch\n",
    "            labels = sampled_subgraph,\n",
    "            step = True,\n",
    "            match_negatives=False\n",
    "        )\n",
    "        log_results(cache, matches, epoque='train')\n",
    "        save_model(model, epoch=epoch, run_path=run_path, save_each_nth=3)"
   ]
  },
  {
   "cell_type": "code",
   "execution_count": null,
   "metadata": {},
   "outputs": [],
   "source": [
    "def epoque_valid():\n",
    "    # for (5174 / n_iter) * 2 = ~320 batches (best case)\n",
    "    batches = 1\n",
    "    print_each_nth = 5\n",
    "    range_with_progress = trange(batches)\n",
    "    for i in trange(batches, desc='Batch valid'):\n",
    "        sampled_subgraph = random_walk_vertex_sample(graph=graph_valid, rng=random.Random(), n_iter=10, n_seeds=1,  use_opposite=True)\n",
    "        plot_subgraphs(sampled_subgraph, batch_n=i, plot_nth=print_each_nth, graph_info=False)\n",
    "        nodes, edges = graph_to_nodes_edges(sampled_subgraph)\n",
    "        arrows = nodes_edges_to_arrows(nodes, edges)\n",
    "        cache, matches = model.train(\n",
    "            data_points = ds.entity_id2vec,\n",
    "            relations = arrows,\n",
    "            # NOTE: Labels could be a couplete graph, a subgraph from random_walk or a sub-sub-graph used to create a batch\n",
    "            labels = sampled_subgraph,\n",
    "            step = False,\n",
    "            match_negatives=False\n",
    "        )\n",
    "        log_results(cache, matches, epoque='valid')"
   ]
  },
  {
   "cell_type": "code",
   "execution_count": null,
   "metadata": {
    "id": "IOPyRB1KYmGf",
    "tags": []
   },
   "outputs": [],
   "source": [
    "# NOTE: for large graphs, random_walk functions family can be used to sub-sample graph\n",
    "# while preserving its topology \n",
    "epochs = 3\n",
    "run_path = init_run_dir()\n",
    "for j in trange(epochs, desc='Epoque'):\n",
    "    epoque_train(epoch=j, run_path=run_path)\n",
    "    epoque_valid()"
   ]
  }
 ],
 "metadata": {
  "accelerator": "GPU",
  "colab": {
   "collapsed_sections": [],
   "name": "train.ipynb",
   "provenance": [],
   "toc_visible": true
  },
  "kernelspec": {
   "display_name": "Python 3",
   "language": "python",
   "name": "python3"
  },
  "language_info": {
   "codemirror_mode": {
    "name": "ipython",
    "version": 3
   },
   "file_extension": ".py",
   "mimetype": "text/x-python",
   "name": "python",
   "nbconvert_exporter": "python",
   "pygments_lexer": "ipython3",
   "version": "3.8.5-final"
  }
 },
 "nbformat": 4,
 "nbformat_minor": 0
}