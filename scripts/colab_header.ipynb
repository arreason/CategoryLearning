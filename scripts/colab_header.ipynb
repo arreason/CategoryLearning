{
 "cells": [
  {
   "cell_type": "markdown",
   "metadata": {
    "id": "LBhpNOK5y37m",
    "tags": []
   },
   "source": [
    "# Colab specific"
   ]
  },
  {
   "cell_type": "markdown",
   "metadata": {},
   "source": [
    "## Copy cells below to the main training notebook"
   ]
  },
  {
   "cell_type": "markdown",
   "metadata": {},
   "source": [
    "## 🎮 Plug-and-Play terminal"
   ]
  },
  {
   "cell_type": "code",
   "execution_count": null,
   "metadata": {
    "id": "XoSbNgEn6cQE"
   },
   "outputs": [],
   "source": [
    "from IPython.display import JSON\n",
    "from google.colab import output\n",
    "from subprocess import getoutput\n",
    "import os\n",
    "\n",
    "def shell(command):\n",
    "  if command.startswith('cd'):\n",
    "    path = command.strip().split(maxsplit=1)[1]\n",
    "    os.chdir(path)\n",
    "    return JSON([''])\n",
    "  return JSON([getoutput(command)])\n",
    "output.register_callback('shell', shell)"
   ]
  },
  {
   "cell_type": "code",
   "execution_count": null,
   "metadata": {
    "cellView": "form",
    "id": "U4d65_nN6kjn"
   },
   "outputs": [],
   "source": [
    "#@title Colab Shell\n",
    "%%html\n",
    "<div id=term_demo></div>\n",
    "<script src=\"https://code.jquery.com/jquery-latest.js\"></script>\n",
    "<script src=\"https://cdn.jsdelivr.net/npm/jquery.terminal/js/jquery.terminal.min.js\"></script>\n",
    "<link href=\"https://cdn.jsdelivr.net/npm/jquery.terminal/css/jquery.terminal.min.css\" rel=\"stylesheet\"/>\n",
    "<script>\n",
    "  $('#term_demo').terminal(async function(command) {\n",
    "      if (command !== '') {\n",
    "          try {\n",
    "              let res = await google.colab.kernel.invokeFunction('shell', [command])\n",
    "              let out = res.data['application/json'][0]\n",
    "              this.echo(new String(out))\n",
    "          } catch(e) {\n",
    "              this.error(new String(e));\n",
    "          }\n",
    "      } else {\n",
    "          this.echo('');\n",
    "      }\n",
    "  }, {\n",
    "      greetings: 'Welcome to Colab Shell',\n",
    "      name: 'colab_demo',\n",
    "      height: 250,\n",
    "      prompt: 'colab > '\n",
    "  });"
   ]
  },
  {
   "cell_type": "markdown",
   "metadata": {
    "id": "CPr8WDmjGLKf"
   },
   "source": [
    "## 👾 for GitHub with SSH settings - init the repository"
   ]
  },
  {
   "cell_type": "code",
   "execution_count": null,
   "metadata": {
    "id": "7j1XhrqtAs6S"
   },
   "outputs": [],
   "source": [
    "# !git init\n",
    "# !git config — global user.email “You@Your.com”\n",
    "# !git config — global user.name “Username”\n",
    "# !git add ....\n",
    "# !git commit ....\n",
    "# !git remote add origin https://<username>:<password>@github.com/arreason/CategoryLearning.git\n",
    "# !git push -u origin <branch>\n",
    "# Troubleshooting\n",
    "# !git remote rm origin -> git remote add ...."
   ]
  },
  {
   "cell_type": "markdown",
   "metadata": {
    "id": "61vYk2npGr-9"
   },
   "source": [
    "## ☑️ check system configurations"
   ]
  },
  {
   "cell_type": "code",
   "execution_count": null,
   "metadata": {
    "id": "fOnNvJrI_Tyc"
   },
   "outputs": [],
   "source": [
    "!cat /proc/version"
   ]
  },
  {
   "cell_type": "code",
   "execution_count": null,
   "metadata": {
    "id": "fB0aJvXq_biE"
   },
   "outputs": [],
   "source": [
    "!cat /etc/*release"
   ]
  },
  {
   "cell_type": "code",
   "execution_count": null,
   "metadata": {},
   "outputs": [],
   "source": [
    "!pip install -r requirements_colab.txt"
   ]
  },
  {
   "cell_type": "markdown",
   "metadata": {},
   "source": [
    "## 🐍 update system Python"
   ]
  },
  {
   "cell_type": "code",
   "execution_count": 1,
   "metadata": {},
   "outputs": [],
   "source": [
    "# TO GET SYSTEM PYTHON 3.8 and COLAB\n",
    "# COLAB KERNEL WILL REMAIN AT DEFAULT 3.6.9\n",
    "# !pip install kora\n",
    "# import kora.install.py38\n",
    "# ========================\n",
    "# from kora import ngrok\n",
    "# url = ngrok.connect(8888).public_url\n",
    "# print(url)"
   ]
  },
  {
   "cell_type": "code",
   "execution_count": 2,
   "metadata": {},
   "outputs": [],
   "source": [
    "# %%bash\n",
    "# TO MANUALLY UPDATE SYSTEM PYTHON TO 3.8\n",
    "# UPDATE SYSMTEM LINKS CAUTIOUSLY AS IT MAKE BREAK SOMETHING\n",
    "# sudo apt-get update -y\n",
    "# sudo apt-get install python3.8\n",
    "# sudo apt update\n",
    "# sudo apt install python3-pip\n",
    "# ----OPTIONAL----\n",
    "# !curl https://bootstrap.pypa.io/get-pip.py -o get-pip.py\n",
    "# !python get-pip.py --force-reinstall\n",
    "# ----OPTIONAL----\n",
    "# !sudo rm /usr/local/bin/python\n",
    "# !sudo ln -s /root/anaconda3/bin/python /usr/local/bin/python\n",
    "# !sudo rm /usr/bin/python3\n",
    "# !sudo ln -s /root/anaconda3/bin/python /usr/bin/python3"
   ]
  },
  {
   "cell_type": "markdown",
   "metadata": {
    "id": "VtbO3wchG-4o"
   },
   "source": [
    "# Common part"
   ]
  },
  {
   "cell_type": "markdown",
   "metadata": {},
   "source": [
    "# ..."
   ]
  }
 ],
 "metadata": {
  "accelerator": "GPU",
  "colab": {
   "collapsed_sections": [],
   "name": "train_colab.ipynb",
   "private_outputs": true,
   "provenance": [],
   "toc_visible": true
  },
  "kernelspec": {
   "display_name": "Python 3",
   "language": "python",
   "name": "python3"
  },
  "language_info": {
   "codemirror_mode": {
    "name": "ipython",
    "version": 3
   },
   "file_extension": ".py",
   "mimetype": "text/x-python",
   "name": "python",
   "nbconvert_exporter": "python",
   "pygments_lexer": "ipython3",
   "version": "3.8.6"
  }
 },
 "nbformat": 4,
 "nbformat_minor": 4
}
